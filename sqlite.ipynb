{
 "cells": [
  {
   "cell_type": "code",
   "execution_count": null,
   "metadata": {
    "colab": {},
    "colab_type": "code",
    "id": "0snDCL4_v6Zo"
   },
   "outputs": [],
   "source": [
    "#NPRU Workshop\n",
    "#การใช้งาน sql บน Colab"
   ]
  },
  {
   "cell_type": "markdown",
   "metadata": {
    "colab_type": "text",
    "id": "IOtRGAQt1ljc"
   },
   "source": [
    "#SQL"
   ]
  },
  {
   "cell_type": "markdown",
   "metadata": {
    "colab_type": "text",
    "id": "vr7_ciJC1xnR"
   },
   "source": [
    "## ติดตั้ง Library สำหรับเข้าถึง Colab Drive "
   ]
  },
  {
   "cell_type": "code",
   "execution_count": null,
   "metadata": {
    "colab": {},
    "colab_type": "code",
    "id": "4LsHlr2z1ebH"
   },
   "outputs": [],
   "source": [
    "!pip install -U -q PyDrive"
   ]
  },
  {
   "cell_type": "markdown",
   "metadata": {
    "colab_type": "text",
    "id": "gv8pMu6G2HiH"
   },
   "source": [
    "## ติดตั้ง Library สำหรับใช้คำสั่ง SQL บน Colab โดยตรง (Magic Command)"
   ]
  },
  {
   "cell_type": "code",
   "execution_count": null,
   "metadata": {
    "colab": {
     "base_uri": "https://localhost:8080/",
     "height": 319
    },
    "colab_type": "code",
    "id": "2SRjTs7wuDKd",
    "outputId": "b47600ca-d10e-4db6-e8a4-ccf6c5217c2f"
   },
   "outputs": [],
   "source": [
    "!pip install ipython-sql"
   ]
  },
  {
   "cell_type": "markdown",
   "metadata": {
    "colab_type": "text",
    "id": "vPDPZT6Z21DB"
   },
   "source": [
    "## ติดตั้ง Library สำหรับแสดง Table บน Colab"
   ]
  },
  {
   "cell_type": "code",
   "execution_count": null,
   "metadata": {
    "colab": {
     "base_uri": "https://localhost:8080/",
     "height": 682
    },
    "colab_type": "code",
    "id": "nbZGo64CuDqU",
    "outputId": "42ac4599-40f4-4d3e-e5ef-b3b5e8b4e5b1"
   },
   "outputs": [],
   "source": [
    "!pip install qgrid"
   ]
  },
  {
   "cell_type": "markdown",
   "metadata": {
    "colab_type": "text",
    "id": "ibN5XwdE3E5c"
   },
   "source": [
    "## Import library สำหรับเข้าถึง Colab drive"
   ]
  },
  {
   "cell_type": "code",
   "execution_count": null,
   "metadata": {
    "colab": {},
    "colab_type": "code",
    "id": "pcR2mpF3v9KA"
   },
   "outputs": [],
   "source": [
    "from pydrive.auth import GoogleAuth\n",
    "from pydrive.drive import GoogleDrive\n",
    "from google.colab import auth\n",
    "from oauth2client.client import GoogleCredentials"
   ]
  },
  {
   "cell_type": "markdown",
   "metadata": {
    "colab_type": "text",
    "id": "elgARJRo3QS-"
   },
   "source": [
    "## Import library สำหรับจัดการข้อมูล"
   ]
  },
  {
   "cell_type": "code",
   "execution_count": null,
   "metadata": {
    "colab": {},
    "colab_type": "code",
    "id": "Sr5yRr7H1O_u"
   },
   "outputs": [],
   "source": [
    "import pandas as pd\n",
    "import numpy as np"
   ]
  },
  {
   "cell_type": "markdown",
   "metadata": {
    "colab_type": "text",
    "id": "49rX5dF93cMA"
   },
   "source": [
    "## คำสั่งขอเข้าถึง Colab drive"
   ]
  },
  {
   "cell_type": "code",
   "execution_count": null,
   "metadata": {
    "colab": {},
    "colab_type": "code",
    "id": "cRdnQ1-4wC26"
   },
   "outputs": [],
   "source": [
    "auth.authenticate_user()\n",
    "gauth = GoogleAuth()\n",
    "gauth.credentials = GoogleCredentials.get_application_default()\n",
    "drive = GoogleDrive(gauth)"
   ]
  },
  {
   "cell_type": "markdown",
   "metadata": {
    "colab_type": "text",
    "id": "V8nUx0LA3lcG"
   },
   "source": [
    "## Download titanic database จาก Google drive และ save เป็นไฟล์ titanic.db"
   ]
  },
  {
   "cell_type": "code",
   "execution_count": null,
   "metadata": {
    "colab": {},
    "colab_type": "code",
    "id": "QO7_WsJwwJYU"
   },
   "outputs": [],
   "source": [
    "link = 'https://drive.google.com/open?id=1-vYMHmB6c9vRSEWdVF5VI9UHOmmOnyay'\n",
    "\n",
    "split, id = link.split('=')\n",
    "\n",
    "downloaded = drive.CreateFile({'id':id}) \n",
    "downloaded.GetContentFile('titanic.db')"
   ]
  },
  {
   "cell_type": "code",
   "execution_count": null,
   "metadata": {
    "colab": {},
    "colab_type": "code",
    "id": "i4AlHFYn5SCO"
   },
   "outputs": [],
   "source": []
  },
  {
   "cell_type": "markdown",
   "metadata": {
    "colab_type": "text",
    "id": "ZVwTfQ-J32NP"
   },
   "source": [
    "## Import library และเตรียมเรียกใช้ Magic command"
   ]
  },
  {
   "cell_type": "code",
   "execution_count": null,
   "metadata": {
    "colab": {},
    "colab_type": "code",
    "id": "LWu2jEf85s_o"
   },
   "outputs": [],
   "source": [
    "%load_ext sql"
   ]
  },
  {
   "cell_type": "markdown",
   "metadata": {
    "colab_type": "text",
    "id": "Uwr_uHWU4LQg"
   },
   "source": [
    "##ติดต่อ Database titanic.db"
   ]
  },
  {
   "cell_type": "code",
   "execution_count": null,
   "metadata": {
    "colab": {
     "base_uri": "https://localhost:8080/",
     "height": 54
    },
    "colab_type": "code",
    "id": "L1lcc9KR4Qj6",
    "outputId": "2dc12edc-7583-4a22-d37a-1dafb0d1a1ee"
   },
   "outputs": [],
   "source": [
    " %sql sqlite:///titanic.db"
   ]
  },
  {
   "cell_type": "markdown",
   "metadata": {
    "colab_type": "text",
    "id": "i3ynBIhq4Shh"
   },
   "source": [
    "## ดู Table ทั้งหมดใน Database titanic"
   ]
  },
  {
   "cell_type": "code",
   "execution_count": null,
   "metadata": {
    "colab": {
     "base_uri": "https://localhost:8080/",
     "height": 104
    },
    "colab_type": "code",
    "id": "l8ENDqC74_o3",
    "outputId": "df2b260c-a855-4583-c0c3-1ba05c10f9a2"
   },
   "outputs": [],
   "source": [
    "%sql SHOW TABLES"
   ]
  },
  {
   "cell_type": "markdown",
   "metadata": {
    "colab_type": "text",
    "id": "ZAG5N5Pz4btg"
   },
   "source": [
    "## ใช้คำสั้ง Magic command เพื่อ Select ข้อมูลทุก Column จำนวน 2 แถว จากตารางชื่อ titanic"
   ]
  },
  {
   "cell_type": "code",
   "execution_count": null,
   "metadata": {
    "colab": {
     "base_uri": "https://localhost:8080/",
     "height": 134
    },
    "colab_type": "code",
    "id": "8kDONsPL52CY",
    "outputId": "08f448ad-c6f8-418b-deb8-66b30411d6cc"
   },
   "outputs": [],
   "source": [
    "%%sql\n",
    "select * from titanic limit 2"
   ]
  },
  {
   "cell_type": "markdown",
   "metadata": {
    "colab_type": "text",
    "id": "9Wv1VSCw4stv"
   },
   "source": [
    "## ใช้คำสั้ง Magic command เพื่อ Select ข้อมูลทุก Column ทุกแถว จากตารางชื่อ titanic เก็บไว้ในตัวแปร df แบบ Dataframe"
   ]
  },
  {
   "cell_type": "code",
   "execution_count": null,
   "metadata": {
    "colab": {
     "base_uri": "https://localhost:8080/",
     "height": 71
    },
    "colab_type": "code",
    "id": "gmxNZ34L7ZgV",
    "outputId": "22454421-94a5-40af-8f39-d91152adbad6"
   },
   "outputs": [],
   "source": [
    "data = %sql select * from titanic"
   ]
  },
  {
   "cell_type": "code",
   "execution_count": null,
   "metadata": {
    "colab": {
     "base_uri": "https://localhost:8080/",
     "height": 339
    },
    "colab_type": "code",
    "id": "xJCCJJINBGbr",
    "outputId": "4333d4f1-5949-46f2-b104-2d0bce9e6e0e"
   },
   "outputs": [],
   "source": [
    "%%sql\n",
    "PRAGMA table_info('titanic')"
   ]
  },
  {
   "cell_type": "code",
   "execution_count": null,
   "metadata": {
    "colab": {},
    "colab_type": "code",
    "id": "ED1hTDso7diU"
   },
   "outputs": [],
   "source": [
    "df = pd.DataFrame(data = data, columns = data.field_names)"
   ]
  },
  {
   "cell_type": "code",
   "execution_count": null,
   "metadata": {
    "colab": {},
    "colab_type": "code",
    "id": "sXEMQMP1AR1n"
   },
   "outputs": [],
   "source": [
    "df.set_index('PassengerId', inplace = True)"
   ]
  },
  {
   "cell_type": "markdown",
   "metadata": {
    "colab_type": "text",
    "id": "vme_3nedBOyb"
   },
   "source": [
    "##ดูข้อมูลจากตัวแปร df จำนวน 5 แถวแรกสุด"
   ]
  },
  {
   "cell_type": "code",
   "execution_count": null,
   "metadata": {
    "colab": {
     "base_uri": "https://localhost:8080/",
     "height": 301
    },
    "colab_type": "code",
    "id": "hl6j6t9c9tNr",
    "outputId": "89695d3e-6b81-4384-fb99-ef8ea5b8a149"
   },
   "outputs": [],
   "source": [
    "df.head()"
   ]
  },
  {
   "cell_type": "markdown",
   "metadata": {
    "colab_type": "text",
    "id": "y5ool0BioyM3"
   },
   "source": [
    "#SQL"
   ]
  },
  {
   "cell_type": "markdown",
   "metadata": {
    "colab_type": "text",
    "id": "JXPWkWtno1Ad"
   },
   "source": [
    "SQL มาจากคำว่า Structured Query Language เป็นภาษามาตรฐานในการเข้าถึงฐานข้อมูล โดยเราใช้ภาษา SQL ในงานต่างๆ เช่น การสืบค้นข้อมูลในฐานข้อมูล ใส่ข้อมูลเพิ่มเข้าไปยังฐานข้อมูล ปรับปรุงข้อมูลในฐานข้อมูล ลบรายการที่เราไม่ต้องการออกจากฐานข้อมูล สร้างฐานข้อมูลขึ้นมาใหม่ สร้างตาราง (Table) ในฐานข้อมูล เป็นต้น"
   ]
  },
  {
   "cell_type": "markdown",
   "metadata": {
    "colab_type": "text",
    "id": "E-AYs6ZXo3Va"
   },
   "source": [
    "##SQL SELECT"
   ]
  },
  {
   "cell_type": "markdown",
   "metadata": {
    "colab_type": "text",
    "id": "PGYR1Rljo6kg"
   },
   "source": [
    "SELECT column1, column2, ...\n",
    "\n",
    "FROM table_name"
   ]
  },
  {
   "cell_type": "code",
   "execution_count": null,
   "metadata": {
    "colab": {
     "base_uri": "https://localhost:8080/",
     "height": 1000
    },
    "colab_type": "code",
    "id": "hB7sgtWDHoyW",
    "outputId": "4b21081e-fea8-4028-803a-cf73d97851a4"
   },
   "outputs": [],
   "source": [
    "%%sql\n",
    "select name\n",
    "from titanic"
   ]
  },
  {
   "cell_type": "code",
   "execution_count": null,
   "metadata": {
    "colab": {
     "base_uri": "https://localhost:8080/",
     "height": 1000
    },
    "colab_type": "code",
    "id": "ZOILmlMGJmp5",
    "outputId": "362dc985-529b-4bda-85aa-2d4f2e72476f"
   },
   "outputs": [],
   "source": [
    "%%sql\n",
    "select sex\n",
    "from titanic"
   ]
  },
  {
   "cell_type": "markdown",
   "metadata": {
    "colab_type": "text",
    "id": "kbxbBw5rIBtc"
   },
   "source": [
    "###ex. ให้นักศึกษาเลือก \tSurvived,\tPclass,\tName,\tSex,\tAge จากตาราง titanic"
   ]
  },
  {
   "cell_type": "code",
   "execution_count": null,
   "metadata": {
    "colab": {},
    "colab_type": "code",
    "id": "hSD2qTx2IMnf"
   },
   "outputs": [],
   "source": []
  },
  {
   "cell_type": "markdown",
   "metadata": {
    "colab_type": "text",
    "id": "jsnV99JmpE1x"
   },
   "source": [
    "##SQL SELECT DISTINCT"
   ]
  },
  {
   "cell_type": "markdown",
   "metadata": {
    "colab_type": "text",
    "id": "lNMw4k4_pH2H"
   },
   "source": [
    "SELECT DISTINCT column1, column2, ...\n",
    "\n",
    "FROM table_name"
   ]
  },
  {
   "cell_type": "code",
   "execution_count": null,
   "metadata": {
    "colab": {
     "base_uri": "https://localhost:8080/",
     "height": 134
    },
    "colab_type": "code",
    "id": "noHexIufJ3oD",
    "outputId": "a4dd18d0-87a5-4c89-a200-56d8c418a5c8"
   },
   "outputs": [],
   "source": [
    "%%sql\n",
    "select distinct sex\n",
    "from titanic"
   ]
  },
  {
   "cell_type": "markdown",
   "metadata": {
    "colab_type": "text",
    "id": "Qmp3HVYfKOoA"
   },
   "source": [
    "###จงแสดงท่าขึ้นเรือ"
   ]
  },
  {
   "cell_type": "code",
   "execution_count": null,
   "metadata": {
    "colab": {},
    "colab_type": "code",
    "id": "NPSASF9xKNr1"
   },
   "outputs": [],
   "source": []
  },
  {
   "cell_type": "markdown",
   "metadata": {
    "colab_type": "text",
    "id": "R8cwFEtspMxQ"
   },
   "source": [
    "SELECT COUNT(DISTINCT column1,)\n",
    "\n",
    "FROM table_name"
   ]
  },
  {
   "cell_type": "code",
   "execution_count": null,
   "metadata": {
    "colab": {
     "base_uri": "https://localhost:8080/",
     "height": 113
    },
    "colab_type": "code",
    "id": "RLVggiJ2KCgw",
    "outputId": "f8c831f2-3149-487d-cdd7-3127a0313ec8"
   },
   "outputs": [],
   "source": [
    "%%sql\n",
    "select count(distinct sex)\n",
    "from titanic"
   ]
  },
  {
   "cell_type": "markdown",
   "metadata": {
    "colab_type": "text",
    "id": "yLXXLXkSKp9W"
   },
   "source": [
    "###จงนับจำนวนท่าขึ้นทั้งหมด"
   ]
  },
  {
   "cell_type": "code",
   "execution_count": null,
   "metadata": {
    "colab": {},
    "colab_type": "code",
    "id": "youkH-fdKMOC"
   },
   "outputs": [],
   "source": []
  },
  {
   "cell_type": "markdown",
   "metadata": {
    "colab_type": "text",
    "id": "JAbCqL4ZpPkQ"
   },
   "source": [
    "##SQL WHERE"
   ]
  },
  {
   "cell_type": "markdown",
   "metadata": {
    "colab_type": "text",
    "id": "DZKOwT4JpRGC"
   },
   "source": [
    "SELECT column1, column2, ...\n",
    "\n",
    "FROM table_name\n",
    "\n",
    "WHERE condition"
   ]
  },
  {
   "cell_type": "code",
   "execution_count": null,
   "metadata": {
    "colab": {
     "base_uri": "https://localhost:8080/",
     "height": 1000
    },
    "colab_type": "code",
    "id": "pOjQX5ccLCAz",
    "outputId": "cbe2152e-06ee-4b81-8329-1b52cbe74185"
   },
   "outputs": [],
   "source": [
    "%%sql\n",
    "select name, age  \n",
    "from titanic\n",
    "where sex = 'male'"
   ]
  },
  {
   "cell_type": "markdown",
   "metadata": {
    "colab_type": "text",
    "id": "wgMwHxcULj7K"
   },
   "source": [
    "###จงแสดง ชื่อ อายุ และเพศ ของผู้โดยสารที่รอดชีวิต"
   ]
  },
  {
   "cell_type": "code",
   "execution_count": null,
   "metadata": {
    "colab": {},
    "colab_type": "code",
    "id": "Hje3C_1cL055"
   },
   "outputs": [],
   "source": []
  },
  {
   "cell_type": "markdown",
   "metadata": {
    "colab_type": "text",
    "id": "9e8FOUKqpVIX"
   },
   "source": [
    "##SQL AND, OR and NOT"
   ]
  },
  {
   "cell_type": "markdown",
   "metadata": {
    "colab_type": "text",
    "id": "B-E_vCekpXiq"
   },
   "source": [
    "SELECT column1, column2, ...\n",
    "\n",
    "FROM table_name\n",
    "\n",
    "WHERE condition1 AND condition2 AND condition3 ..."
   ]
  },
  {
   "cell_type": "code",
   "execution_count": null,
   "metadata": {
    "colab": {
     "base_uri": "https://localhost:8080/",
     "height": 1000
    },
    "colab_type": "code",
    "id": "vw-rZZ43L8nT",
    "outputId": "8fac6b39-b059-4308-99b4-024e70d60f14"
   },
   "outputs": [],
   "source": [
    "%%sql\n",
    "select name, age  \n",
    "from titanic\n",
    "where sex = 'female' and Pclass\t= 1"
   ]
  },
  {
   "cell_type": "markdown",
   "metadata": {
    "colab_type": "text",
    "id": "7-80yj6-NIKC"
   },
   "source": [
    "###จงแสดง"
   ]
  },
  {
   "cell_type": "markdown",
   "metadata": {
    "colab_type": "text",
    "id": "V14FcKUNpZZ6"
   },
   "source": [
    "SELECT column1, column2, ...\n",
    "\n",
    "FROM table_name\n",
    "\n",
    "WHERE condition1 OR condition2 OR condition3 ..."
   ]
  },
  {
   "cell_type": "code",
   "execution_count": null,
   "metadata": {
    "colab": {
     "base_uri": "https://localhost:8080/",
     "height": 1000
    },
    "colab_type": "code",
    "id": "VVpOH3WKMZXn",
    "outputId": "007b6ce9-5e38-4983-dfcd-7c405966bc8e"
   },
   "outputs": [],
   "source": [
    "%%sql\n",
    "select name, age, embarked  \n",
    "from titanic\n",
    "where embarked = 'S' or embarked\t= 'C'"
   ]
  },
  {
   "cell_type": "markdown",
   "metadata": {
    "colab_type": "text",
    "id": "b1yYdJj3NSla"
   },
   "source": [
    "###จงแสดง ชื่อ อายุ และเพศ ของผู้โดยสารชั้น 1 หรือชั้น 2"
   ]
  },
  {
   "cell_type": "code",
   "execution_count": null,
   "metadata": {
    "colab": {},
    "colab_type": "code",
    "id": "vbDoI68aNgot"
   },
   "outputs": [],
   "source": []
  },
  {
   "cell_type": "markdown",
   "metadata": {
    "colab_type": "text",
    "id": "FlLd0WdzpctE"
   },
   "source": [
    "SELECT column1, column2, ...\n",
    "\n",
    "FROM table_name\n",
    "\n",
    "WHERE NOT condition"
   ]
  },
  {
   "cell_type": "code",
   "execution_count": null,
   "metadata": {
    "colab": {
     "base_uri": "https://localhost:8080/",
     "height": 1000
    },
    "colab_type": "code",
    "id": "Tf7YhWg9NigC",
    "outputId": "4e1576aa-3bb7-43c9-ac56-1cd7a568faae"
   },
   "outputs": [],
   "source": [
    "%%sql\n",
    "select *\n",
    "from titanic\n",
    "where not Embarked = 'S'\n"
   ]
  },
  {
   "cell_type": "markdown",
   "metadata": {
    "colab_type": "text",
    "id": "urXuV0p2Ozps"
   },
   "source": [
    "###จงแสดงข้อมูลทุก Column ที่ อายุไม่เท่ากับ None"
   ]
  },
  {
   "cell_type": "code",
   "execution_count": null,
   "metadata": {
    "colab": {},
    "colab_type": "code",
    "id": "JM4AKnraMnGA"
   },
   "outputs": [],
   "source": []
  },
  {
   "cell_type": "markdown",
   "metadata": {
    "colab_type": "text",
    "id": "FZo734WdphuO"
   },
   "source": [
    "##SQL ORDER BY"
   ]
  },
  {
   "cell_type": "markdown",
   "metadata": {
    "colab_type": "text",
    "id": "eUP5Z910pkV5"
   },
   "source": [
    "SELECT column1, column2, ...\n",
    "\n",
    "FROM table_name\n",
    "\n",
    "ORDER BY column1, column2, ... ASC|DESC"
   ]
  },
  {
   "cell_type": "code",
   "execution_count": null,
   "metadata": {
    "colab": {
     "base_uri": "https://localhost:8080/",
     "height": 1000
    },
    "colab_type": "code",
    "id": "3vagm3s5PW6d",
    "outputId": "f80fe28c-49b7-48d4-f40f-0bcc6ab8be9b"
   },
   "outputs": [],
   "source": [
    "%%sql\n",
    "select name, fare\n",
    "from titanic\n",
    "order by fare asc"
   ]
  },
  {
   "cell_type": "markdown",
   "metadata": {
    "colab_type": "text",
    "id": "DhtvCC6UP3D-"
   },
   "source": [
    "###จงแสดง ชื่อ ค่าโดยสาร และอายุ โดยเรียงลำดับอายุจากมากไปหาน้อย"
   ]
  },
  {
   "cell_type": "code",
   "execution_count": null,
   "metadata": {
    "colab": {},
    "colab_type": "code",
    "id": "wCJYYwtjQMJt"
   },
   "outputs": [],
   "source": []
  },
  {
   "cell_type": "markdown",
   "metadata": {
    "colab_type": "text",
    "id": "CB-645QBpnRp"
   },
   "source": [
    "##SQL NULL Values"
   ]
  },
  {
   "cell_type": "markdown",
   "metadata": {
    "colab_type": "text",
    "id": "3Gy8TzX6ppeu"
   },
   "source": [
    "SELECT column_names\n",
    "\n",
    "FROM table_name\n",
    "\n",
    "WHERE column_name IS NULL"
   ]
  },
  {
   "cell_type": "code",
   "execution_count": null,
   "metadata": {
    "colab": {
     "base_uri": "https://localhost:8080/",
     "height": 1000
    },
    "colab_type": "code",
    "id": "ejZ1HEUMQOgS",
    "outputId": "46d097de-0d33-4f59-be6e-822a2fd7d3e6"
   },
   "outputs": [],
   "source": [
    "%%sql\n",
    "select name, age\n",
    "from titanic\n",
    "where age is NULL"
   ]
  },
  {
   "cell_type": "markdown",
   "metadata": {
    "colab_type": "text",
    "id": "ZQGdWkBDQgH4"
   },
   "source": [
    "###จงแสดง ชื่อ ห้องพัก ของผู้โดยสาร ที่ไม่ระบุค่าโดยสาร"
   ]
  },
  {
   "cell_type": "code",
   "execution_count": null,
   "metadata": {
    "colab": {},
    "colab_type": "code",
    "id": "akl_BNF8Qu9k"
   },
   "outputs": [],
   "source": []
  },
  {
   "cell_type": "markdown",
   "metadata": {
    "colab_type": "text",
    "id": "XUoOpdaipsTP"
   },
   "source": [
    "SELECT column_names\n",
    "\n",
    "FROM table_name\n",
    "\n",
    "WHERE column_name IS NOT NULL"
   ]
  },
  {
   "cell_type": "code",
   "execution_count": null,
   "metadata": {
    "colab": {
     "base_uri": "https://localhost:8080/",
     "height": 1000
    },
    "colab_type": "code",
    "id": "OI7mPW0lRO6E",
    "outputId": "d3859651-598e-4e7e-ce7d-a1cd720cbdf0"
   },
   "outputs": [],
   "source": [
    "%%sql\n",
    "select name, age\n",
    "from titanic\n",
    "where age is not NULL"
   ]
  },
  {
   "cell_type": "markdown",
   "metadata": {
    "colab_type": "text",
    "id": "0o1gfuonRZlb"
   },
   "source": [
    "###จงแสดง ชื่อ อายุ  และเพศ ที่มีการระบุห้องโดยสารทุกคน"
   ]
  },
  {
   "cell_type": "code",
   "execution_count": null,
   "metadata": {
    "colab": {},
    "colab_type": "code",
    "id": "Q9d4OgwMRpeU"
   },
   "outputs": [],
   "source": []
  },
  {
   "cell_type": "markdown",
   "metadata": {
    "colab_type": "text",
    "id": "FC_EXjpPpvZz"
   },
   "source": [
    "##SQL MIN() and MAX()"
   ]
  },
  {
   "cell_type": "markdown",
   "metadata": {
    "colab_type": "text",
    "id": "y6Mf-jyXpxV4"
   },
   "source": [
    "SELECT MIN(column_name)\n",
    "\n",
    "FROM table_name\n",
    "\n",
    "WHERE condition"
   ]
  },
  {
   "cell_type": "code",
   "execution_count": null,
   "metadata": {
    "colab": {
     "base_uri": "https://localhost:8080/",
     "height": 113
    },
    "colab_type": "code",
    "id": "7t6FspWsSJmP",
    "outputId": "0e9f0f33-9d67-4218-a64d-e37c2351f0f4"
   },
   "outputs": [],
   "source": [
    "%%sql\n",
    "select min(fare)\n",
    "from titanic\n",
    "where pclass = 1"
   ]
  },
  {
   "cell_type": "markdown",
   "metadata": {
    "colab_type": "text",
    "id": "7e7hgvqqSj6Z"
   },
   "source": [
    "###จงหาอายุน้อยที่สุดของผู้โดยสารชั้น 1"
   ]
  },
  {
   "cell_type": "code",
   "execution_count": null,
   "metadata": {
    "colab": {},
    "colab_type": "code",
    "id": "PWnLGk_dSvZr"
   },
   "outputs": [],
   "source": []
  },
  {
   "cell_type": "markdown",
   "metadata": {
    "colab_type": "text",
    "id": "DMTJLKLhp0U0"
   },
   "source": [
    "SELECT MAX(column_name)\n",
    "\n",
    "FROM table_name\n",
    "\n",
    "WHERE condition"
   ]
  },
  {
   "cell_type": "code",
   "execution_count": null,
   "metadata": {
    "colab": {
     "base_uri": "https://localhost:8080/",
     "height": 113
    },
    "colab_type": "code",
    "id": "vE3P1ADESySM",
    "outputId": "ba9999e5-d465-4b02-a5c6-17217098e55c"
   },
   "outputs": [],
   "source": [
    "%%sql\n",
    "select max(fare)\n",
    "from titanic\n",
    "where pclass = 1"
   ]
  },
  {
   "cell_type": "markdown",
   "metadata": {
    "colab_type": "text",
    "id": "TA8UdA60S5Xc"
   },
   "source": [
    "###จงหาอายุมากที่สุดของผู้โดยสารชั้น 1"
   ]
  },
  {
   "cell_type": "code",
   "execution_count": null,
   "metadata": {
    "colab": {},
    "colab_type": "code",
    "id": "xG6fl9D0S3qB"
   },
   "outputs": [],
   "source": []
  },
  {
   "cell_type": "markdown",
   "metadata": {
    "colab_type": "text",
    "id": "spCf24QEp3TI"
   },
   "source": [
    "##SQL COUNT(), AVG() and SUM()"
   ]
  },
  {
   "cell_type": "markdown",
   "metadata": {
    "colab_type": "text",
    "id": "Qatm9rdGp53X"
   },
   "source": [
    "SELECT COUNT(column_name)\n",
    "\n",
    "FROM table_name\n",
    "\n",
    "WHERE condition"
   ]
  },
  {
   "cell_type": "code",
   "execution_count": null,
   "metadata": {
    "colab": {
     "base_uri": "https://localhost:8080/",
     "height": 113
    },
    "colab_type": "code",
    "id": "hYLIyvDgTLge",
    "outputId": "64f41e7c-bbf9-4090-b828-3b175b75d912"
   },
   "outputs": [],
   "source": [
    "%%sql\n",
    "select count(pclass)\n",
    "from titanic\n",
    "where pclass = 1"
   ]
  },
  {
   "cell_type": "markdown",
   "metadata": {
    "colab_type": "text",
    "id": "UWDH_u63ToSv"
   },
   "source": [
    "###จงนับจำนวนผู้รอดชีวิตของผู้โดยสารชั้นที่ 1"
   ]
  },
  {
   "cell_type": "code",
   "execution_count": null,
   "metadata": {
    "colab": {},
    "colab_type": "code",
    "id": "8DlfgiMyTzsh"
   },
   "outputs": [],
   "source": []
  },
  {
   "cell_type": "markdown",
   "metadata": {
    "colab_type": "text",
    "id": "1PyhpoF0p9JP"
   },
   "source": [
    "SELECT AVG(column_name)\n",
    "\n",
    "FROM table_name\n",
    "\n",
    "WHERE condition"
   ]
  },
  {
   "cell_type": "code",
   "execution_count": null,
   "metadata": {
    "colab": {
     "base_uri": "https://localhost:8080/",
     "height": 113
    },
    "colab_type": "code",
    "id": "Sgjm_-XkUAKt",
    "outputId": "60bf90d9-7c8a-46ad-9748-98cf2d5a731d"
   },
   "outputs": [],
   "source": [
    "%%sql\n",
    "select avg(age)\n",
    "from titanic\n",
    "where pclass = 1"
   ]
  },
  {
   "cell_type": "markdown",
   "metadata": {
    "colab_type": "text",
    "id": "TB0wXVrqUKSx"
   },
   "source": [
    "###จงหาอายุเฉลี่ยของผู้โดยสารชั้น 3"
   ]
  },
  {
   "cell_type": "code",
   "execution_count": null,
   "metadata": {
    "colab": {},
    "colab_type": "code",
    "id": "ybgXs3YJUTAE"
   },
   "outputs": [],
   "source": []
  },
  {
   "cell_type": "markdown",
   "metadata": {
    "colab_type": "text",
    "id": "O4MFnxbEp_HV"
   },
   "source": [
    "SELECT SUM(column_name)\n",
    "\n",
    "FROM table_name\n",
    "\n",
    "WHERE condition"
   ]
  },
  {
   "cell_type": "code",
   "execution_count": null,
   "metadata": {
    "colab": {
     "base_uri": "https://localhost:8080/",
     "height": 113
    },
    "colab_type": "code",
    "id": "d3uHpPqqUWWL",
    "outputId": "a1f08859-530d-4e4e-89ed-5a827a364c12"
   },
   "outputs": [],
   "source": [
    "%%sql\n",
    "select sum(fare)\n",
    "from titanic\n",
    "where pclass = 1\n"
   ]
  },
  {
   "cell_type": "markdown",
   "metadata": {
    "colab_type": "text",
    "id": "gL9yA3xrUkAJ"
   },
   "source": [
    "###จงบวกราคาค่าโดยสารของชั้น 3 ทั้งหมด"
   ]
  },
  {
   "cell_type": "code",
   "execution_count": null,
   "metadata": {
    "colab": {},
    "colab_type": "code",
    "id": "h2_1ViH4Uxco"
   },
   "outputs": [],
   "source": []
  },
  {
   "cell_type": "markdown",
   "metadata": {
    "colab_type": "text",
    "id": "kQ1Mmk9IqCsE"
   },
   "source": [
    "##SQL LIKE"
   ]
  },
  {
   "cell_type": "markdown",
   "metadata": {
    "colab_type": "text",
    "id": "OmVHZgt2qFvj"
   },
   "source": [
    "SELECT column1, column2, ...\n",
    "\n",
    "FROM table_name\n",
    "\n",
    "WHERE columnN LIKE pattern"
   ]
  },
  {
   "cell_type": "code",
   "execution_count": null,
   "metadata": {
    "colab": {
     "base_uri": "https://localhost:8080/",
     "height": 1000
    },
    "colab_type": "code",
    "id": "UxLUkryhUyqF",
    "outputId": "995bf3f7-f8d5-4d66-8020-47202c245e2b"
   },
   "outputs": [],
   "source": [
    "%%sql\n",
    "select *\n",
    "from titanic\n",
    "where name like 'a%'"
   ]
  },
  {
   "cell_type": "markdown",
   "metadata": {
    "colab_type": "text",
    "id": "R-i3zDVvqI4Y"
   },
   "source": [
    "##Pattern"
   ]
  },
  {
   "cell_type": "markdown",
   "metadata": {
    "colab_type": "text",
    "id": "oWIZgRzVqLvi"
   },
   "source": [
    "WHERE CustomerName LIKE 'a%'    Finds any values that start with \"a\"\n",
    "\n",
    "WHERE CustomerName LIKE '%a'    Finds any values that end with \"a\"\n",
    "\n",
    "WHERE CustomerName LIKE '%or%'    Finds any values that have \"or\" in any position\n",
    "\n",
    "WHERE CustomerName LIKE '_r%'    Finds any values that have \"r\" in the second position\n",
    "\n",
    "WHERE CustomerName LIKE 'a__%'    Finds any values that start with \"a\" and are at least 3 characters in length\n",
    "\n",
    "WHERE ContactName LIKE 'a%o'    Finds any values that start with \"a\" and ends with \"o\""
   ]
  },
  {
   "cell_type": "markdown",
   "metadata": {
    "colab_type": "text",
    "id": "rR65j7pOVdwb"
   },
   "source": [
    "###จงแสดงข้อมูลผู้โดยสารทุก column ที่ มีชื่อลงท้ายด้วย Oskar"
   ]
  },
  {
   "cell_type": "code",
   "execution_count": null,
   "metadata": {
    "colab": {},
    "colab_type": "code",
    "id": "MKG1xKwcVn1b"
   },
   "outputs": [],
   "source": []
  },
  {
   "cell_type": "markdown",
   "metadata": {
    "colab_type": "text",
    "id": "35-rQEFzqP_Q"
   },
   "source": [
    "##SQL IN"
   ]
  },
  {
   "cell_type": "markdown",
   "metadata": {
    "colab_type": "text",
    "id": "TazUZQ_QqRaQ"
   },
   "source": [
    "SELECT column_name(s)\n",
    "\n",
    "FROM table_name\n",
    "\n",
    "WHERE column_name IN (value1, value2, ...)"
   ]
  },
  {
   "cell_type": "code",
   "execution_count": null,
   "metadata": {
    "colab": {
     "base_uri": "https://localhost:8080/",
     "height": 441
    },
    "colab_type": "code",
    "id": "hkuwHgCvV0nW",
    "outputId": "121a9425-f04f-4f03-e081-c5ad80da2352"
   },
   "outputs": [],
   "source": [
    "%%sql\n",
    "select *\n",
    "from titanic\n",
    "where age in (10,20)"
   ]
  },
  {
   "cell_type": "markdown",
   "metadata": {
    "colab_type": "text",
    "id": "PHpAt1KBWLqP"
   },
   "source": [
    "###จงแสดงชื่อ อายุ เพศ ของคนที่ขึ้นท่าเรือ S และ Q โดยใช้สำสั่ง IN"
   ]
  },
  {
   "cell_type": "code",
   "execution_count": null,
   "metadata": {
    "colab": {},
    "colab_type": "code",
    "id": "fivz6ajRWnwI"
   },
   "outputs": [],
   "source": []
  },
  {
   "cell_type": "markdown",
   "metadata": {
    "colab_type": "text",
    "id": "jV7_Yhk6qT4V"
   },
   "source": [
    "SELECT column_name(s)\n",
    "\n",
    "FROM table_name\n",
    "\n",
    "WHERE column_name IN (SELECT STATEMENT)"
   ]
  },
  {
   "cell_type": "code",
   "execution_count": null,
   "metadata": {
    "colab": {
     "base_uri": "https://localhost:8080/",
     "height": 113
    },
    "colab_type": "code",
    "id": "oQ-SWWTfWqgO",
    "outputId": "fe612dc2-58d1-4b49-cb5a-881f8be21b7f"
   },
   "outputs": [],
   "source": [
    "%%sql\n",
    "select *\n",
    "from titanic\n",
    "where age in (select min(age) from titanic)"
   ]
  },
  {
   "cell_type": "markdown",
   "metadata": {
    "colab_type": "text",
    "id": "1gIEQyBAXKdM"
   },
   "source": [
    "###จงแสดงข้อมูลทุก column ของคนที่อายุมากที่สุด"
   ]
  },
  {
   "cell_type": "code",
   "execution_count": null,
   "metadata": {
    "colab": {},
    "colab_type": "code",
    "id": "qK1eHptPXXIB"
   },
   "outputs": [],
   "source": []
  },
  {
   "cell_type": "markdown",
   "metadata": {
    "colab_type": "text",
    "id": "dQZ2p7E0qXLM"
   },
   "source": [
    "##The SQL BETWEEN"
   ]
  },
  {
   "cell_type": "markdown",
   "metadata": {
    "colab_type": "text",
    "id": "_WMXxioyqYX2"
   },
   "source": [
    "SELECT column_name(s)\n",
    "\n",
    "FROM table_name\n",
    "\n",
    "WHERE column_name BETWEEN value1 AND value2"
   ]
  },
  {
   "cell_type": "code",
   "execution_count": null,
   "metadata": {
    "colab": {
     "base_uri": "https://localhost:8080/",
     "height": 524
    },
    "colab_type": "code",
    "id": "B5z7LN41XaZZ",
    "outputId": "a69aa4d4-2f81-447a-fea8-e99e04e8eeed"
   },
   "outputs": [],
   "source": [
    "%%sql\n",
    "select *\n",
    "from titanic\n",
    "where age between 10 and 15"
   ]
  },
  {
   "cell_type": "markdown",
   "metadata": {
    "colab_type": "text",
    "id": "73yiKghvXtOB"
   },
   "source": [
    "###จงแสดงข้อมูลทุก column ของคนที่จ่ายค่าโดยสาร 100 ถึง 200"
   ]
  },
  {
   "cell_type": "code",
   "execution_count": null,
   "metadata": {
    "colab": {},
    "colab_type": "code",
    "id": "K8qqBemZYCTT"
   },
   "outputs": [],
   "source": []
  },
  {
   "cell_type": "markdown",
   "metadata": {
    "colab_type": "text",
    "id": "HHbgmwDDqcDx"
   },
   "source": [
    "##SQL Aliases"
   ]
  },
  {
   "cell_type": "markdown",
   "metadata": {
    "colab_type": "text",
    "id": "XZiwF1b1qeVD"
   },
   "source": [
    "SELECT column_name AS alias_name\n",
    "\n",
    "FROM table_name"
   ]
  },
  {
   "cell_type": "code",
   "execution_count": null,
   "metadata": {
    "colab": {
     "base_uri": "https://localhost:8080/",
     "height": 113
    },
    "colab_type": "code",
    "id": "mhrN2lzdYJPQ",
    "outputId": "17e7cfbc-79c0-4a74-c50c-74c28d44b7db"
   },
   "outputs": [],
   "source": [
    "%%sql\n",
    "select sum(fare) as fare_sum\n",
    "from titanic"
   ]
  },
  {
   "cell_type": "markdown",
   "metadata": {
    "colab_type": "text",
    "id": "nQy6GjY4YbX0"
   },
   "source": [
    "###จงตั้งชื่อ column ของ ค่าเฉลี่ยของอายุเป็น age_avg"
   ]
  },
  {
   "cell_type": "code",
   "execution_count": null,
   "metadata": {
    "colab": {},
    "colab_type": "code",
    "id": "Qdrm3crdY5MC"
   },
   "outputs": [],
   "source": []
  },
  {
   "cell_type": "markdown",
   "metadata": {
    "colab_type": "text",
    "id": "sxjrro26qglh"
   },
   "source": [
    "##SQL GROUP BY"
   ]
  },
  {
   "cell_type": "markdown",
   "metadata": {
    "colab_type": "text",
    "id": "KHVg2a_iqjI2"
   },
   "source": [
    "SELECT column_name(s)\n",
    "\n",
    "FROM table_name\n",
    "\n",
    "WHERE condition\n",
    "\n",
    "GROUP BY column_name(s)\n",
    "\n",
    "ORDER BY column_name(s)"
   ]
  },
  {
   "cell_type": "code",
   "execution_count": null,
   "metadata": {
    "colab": {
     "base_uri": "https://localhost:8080/",
     "height": 154
    },
    "colab_type": "code",
    "id": "hUhED9TmY83c",
    "outputId": "78db8023-1e63-4066-ac2c-b02015aef434"
   },
   "outputs": [],
   "source": [
    "%%sql\n",
    "select avg(age), Pclass\n",
    "from titanic\n",
    "where survived = 1\n",
    "group by Pclass\n",
    "order by age"
   ]
  },
  {
   "cell_type": "markdown",
   "metadata": {
    "colab_type": "text",
    "id": "HLaYN6lFaKVl"
   },
   "source": [
    "###จงแสดงข้อมูลอายุโดยเฉลี่ย และชั้นผู้โดยสารของ ของผู้เสียชีวิต โดยจัดกลุ่มตามอายุ และเรียงอายุเฉลี่ยจากมากไปน้อย"
   ]
  },
  {
   "cell_type": "code",
   "execution_count": null,
   "metadata": {
    "colab": {},
    "colab_type": "code",
    "id": "v6smqzAFawxP"
   },
   "outputs": [],
   "source": []
  },
  {
   "cell_type": "markdown",
   "metadata": {
    "colab_type": "text",
    "id": "Wc_O8D6wqmQK"
   },
   "source": [
    "##The SQL HAVING"
   ]
  },
  {
   "cell_type": "markdown",
   "metadata": {
    "colab_type": "text",
    "id": "FR1QTXzLqpEE"
   },
   "source": [
    "SELECT column_name(s)\n",
    "\n",
    "FROM table_name\n",
    "\n",
    "WHERE condition\n",
    "\n",
    "GROUP BY column_name(s)\n",
    "\n",
    "HAVING condition\n",
    "\n",
    "ORDER BY column_name(s)"
   ]
  },
  {
   "cell_type": "code",
   "execution_count": null,
   "metadata": {
    "colab": {},
    "colab_type": "code",
    "id": "etpGd2dxUF8d"
   },
   "outputs": [],
   "source": []
  }
 ],
 "metadata": {
  "accelerator": "GPU",
  "colab": {
   "collapsed_sections": [],
   "name": "sqlite.ipynb",
   "provenance": [],
   "version": "0.3.2"
  },
  "kernelspec": {
   "display_name": "Python 3",
   "language": "python",
   "name": "python3"
  },
  "language_info": {
   "codemirror_mode": {
    "name": "ipython",
    "version": 3
   },
   "file_extension": ".py",
   "mimetype": "text/x-python",
   "name": "python",
   "nbconvert_exporter": "python",
   "pygments_lexer": "ipython3",
   "version": "3.6.8"
  },
  "toc": {
   "base_numbering": 1,
   "nav_menu": {},
   "number_sections": true,
   "sideBar": true,
   "skip_h1_title": false,
   "title_cell": "Table of Contents",
   "title_sidebar": "Contents",
   "toc_cell": false,
   "toc_position": {},
   "toc_section_display": true,
   "toc_window_display": false
  },
  "varInspector": {
   "cols": {
    "lenName": 16,
    "lenType": 16,
    "lenVar": 40
   },
   "kernels_config": {
    "python": {
     "delete_cmd_postfix": "",
     "delete_cmd_prefix": "del ",
     "library": "var_list.py",
     "varRefreshCmd": "print(var_dic_list())"
    },
    "r": {
     "delete_cmd_postfix": ") ",
     "delete_cmd_prefix": "rm(",
     "library": "var_list.r",
     "varRefreshCmd": "cat(var_dic_list()) "
    }
   },
   "types_to_exclude": [
    "module",
    "function",
    "builtin_function_or_method",
    "instance",
    "_Feature"
   ],
   "window_display": false
  }
 },
 "nbformat": 4,
 "nbformat_minor": 1
}
