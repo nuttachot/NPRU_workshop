{
 "cells": [
  {
   "cell_type": "code",
   "execution_count": null,
   "metadata": {
    "colab": {},
    "colab_type": "code",
    "id": "umJGuDBt8aZG"
   },
   "outputs": [],
   "source": [
    "#NPRU Workshop\n",
    "#Python เบื้องต้น"
   ]
  },
  {
   "cell_type": "markdown",
   "metadata": {
    "colab_type": "text",
    "id": "qyAyRxy6f27t"
   },
   "source": [
    "# การแสดงข้อความ\n",
    "ใน Python เราใช้คำสั่ง print( ) เพื่อแสดงข้อความที่ต้องการให้ปรากฎต่อผู้ใช้\n",
    "โดย ข้อความหรือ text ที่เราอยากให้มันพูดต้องอยู่ในเครื่องหมาย \" \" (double quote) หรือ ' ' (single quote)\n",
    "\n",
    "ตัวอย่าง เช่น"
   ]
  },
  {
   "cell_type": "code",
   "execution_count": null,
   "metadata": {
    "colab": {},
    "colab_type": "code",
    "id": "_gcqX6GRgKve"
   },
   "outputs": [],
   "source": [
    "print(\"Hello Python\")"
   ]
  },
  {
   "cell_type": "code",
   "execution_count": null,
   "metadata": {
    "colab": {},
    "colab_type": "code",
    "id": "KZbEUU44gT7a"
   },
   "outputs": [],
   "source": [
    "print(\"Python for Non-Programmer\")\n",
    "print('Python for Non-Programmer')\n",
    "print(\"จะ single quote หรือ double quote ก็ปริ้นได้เหมือนกัน\")"
   ]
  },
  {
   "cell_type": "code",
   "execution_count": null,
   "metadata": {
    "colab": {},
    "colab_type": "code",
    "id": "g-zR5TXUgn8G"
   },
   "outputs": [],
   "source": [
    "# ลองสั่งให้มันพิมพ์ชื่อของคุณ\n",
    "print(\"\")"
   ]
  },
  {
   "cell_type": "code",
   "execution_count": null,
   "metadata": {
    "colab": {},
    "colab_type": "code",
    "id": "9G3fSloygt5F"
   },
   "outputs": [],
   "source": [
    "# เราสามารถสั่งปริ้นแบบขึ้นบรรทัดใหม่ได้ง่ายๆ ด้วยการใส่ \\n ไปในข้อความของเรา\n",
    "# \\n แปลว่าขึ้นบรรทัดใหม่ !! มาลองดูตัวอย่าง\n",
    "\n",
    "print(\"line one\\nline two\\nline three\")"
   ]
  },
  {
   "cell_type": "markdown",
   "metadata": {
    "colab_type": "text",
    "id": "q4MbI9Lf8jI7"
   },
   "source": [
    "#ตัวแปร\n",
    "เราสร้างตัวแปรง่ายๆด้วยรูปแบบ variable_name = value\n",
    "\n",
    "x = 100\n",
    "\n",
    "y = 200\n",
    "\n",
    "income_this_year = 25000\n",
    "\n",
    "income_next_year = 35000\n",
    "\n",
    "---\n",
    "\n",
    "\n",
    "\n",
    "การตั้งชื่อตัวแปรที่ดี ให้ตั้งชื่อแบบนี้\n",
    "\n",
    "\n",
    "1. ใช้ตัวพิมพ์เล็ก lower-case\n",
    "2. ห้ามขึ้นต้นด้วยตัวเลข\n",
    "3. ถ้าชื่อยาวให้เชื่อมด้วย _ \n",
    "4. ห้ามใช้ reserved words ในการตั้งชื่อ เช่น if, else, for, while ฯลฯ\n"
   ]
  },
  {
   "cell_type": "code",
   "execution_count": null,
   "metadata": {
    "colab": {},
    "colab_type": "code",
    "id": "kwlKcNIR8yF3"
   },
   "outputs": [],
   "source": [
    "# ตัวอย่าง\n",
    "x = 100\n",
    "y = 200\n",
    "hello_world = 'hello world!'\n",
    "myname = \"nut\""
   ]
  },
  {
   "cell_type": "code",
   "execution_count": null,
   "metadata": {
    "colab": {},
    "colab_type": "code",
    "id": "d7J9ttQzD-uT"
   },
   "outputs": [],
   "source": [
    "# สร้างตัวแปร income, food_expense, travel\n",
    "income = 15000\n",
    "food_expense = 5000\n",
    "travel = 3000"
   ]
  },
  {
   "cell_type": "code",
   "execution_count": null,
   "metadata": {
    "colab": {
     "base_uri": "https://localhost:8080/",
     "height": 51
    },
    "colab_type": "code",
    "id": "U1nb4ROVFA6L",
    "outputId": "64138347-bbdf-4648-8f99-4eb65d6ad3e4"
   },
   "outputs": [],
   "source": [
    "# จงคำนวณหา saving เงินออมของเราว่าเดือนนึงจะเหลือเงินออมเท่าไร?\n",
    "saving = income - food_expense - travel\n",
    "print(\"เงินออมต่อเดือน\")\n",
    "print(saving)"
   ]
  },
  {
   "cell_type": "code",
   "execution_count": null,
   "metadata": {
    "colab": {
     "base_uri": "https://localhost:8080/",
     "height": 51
    },
    "colab_type": "code",
    "id": "Fv6fKtGyFOhv",
    "outputId": "c51e7570-e392-45d4-f582-7ccc16f102fa"
   },
   "outputs": [],
   "source": [
    "# ถ้าเราเก็บเงินครบ 1 ปี (12 เดือน) จะมีเงินเท่าไร?\n",
    "yearly_saving = saving * 12\n",
    "print(\"ฝากครบหนึ่งปี เราจะมีเงินออมเท่ากับ\")\n",
    "print(yearly_saving)"
   ]
  },
  {
   "cell_type": "code",
   "execution_count": null,
   "metadata": {
    "colab": {
     "base_uri": "https://localhost:8080/",
     "height": 51
    },
    "colab_type": "code",
    "id": "9_D7Whk_FXfi",
    "outputId": "cedfb08b-fc3d-401c-93cd-fc1e44ecfbdb"
   },
   "outputs": [],
   "source": [
    "# ถ้าเราฝากเงินก้อนนี้ไปอีก 10 ปี ดอกเบี้ยปีละ 15% ทบต้น \n",
    "# เงินฝากของเราจะเป็นเท่าไร?\n",
    "# ลองคำนวณได้ง่ายๆดวยสูตรดอกเบี้ยทบต้น FV = PV*(1+interest)**year\n",
    "\n",
    "FV = yearly_saving * ((1+0.15) ** 10)\n",
    "print(\"ฝากเงินก้อนนี้ไปอีก 10 ปี ได้ดอกเบี้ยปีละ 15% เงินออมของเราจะเพิ่มขึ้นเป็น\")\n",
    "print(FV)"
   ]
  },
  {
   "cell_type": "markdown",
   "metadata": {
    "colab_type": "text",
    "id": "tJcZOeppGOgu"
   },
   "source": [
    "## Test Your Knowledge\n",
    "ในหนึ่งวันมีเวลากี่วินาที ลองคำนวณได้ใน cell ถัดไป"
   ]
  },
  {
   "cell_type": "code",
   "execution_count": null,
   "metadata": {
    "colab": {},
    "colab_type": "code",
    "id": "zDG5ZHrnFzzV"
   },
   "outputs": [],
   "source": [
    "# total seconds in one day\n",
    "hour = 24\n",
    "minute = 60\n",
    "total_second = \"\"\n",
    "\n",
    "print(\"หนึ่งวันมีทั้งหมดกี่วินาที?\")\n",
    "print(total_second)"
   ]
  },
  {
   "cell_type": "markdown",
   "metadata": {
    "colab_type": "text",
    "id": "XwmQuhg25Si2"
   },
   "source": [
    "เราสามารถตรวจสอบชนิดของข้อมูลต่างๆด้วยฟังก์ชัน type( )\n",
    "---\n",
    "ในตัวอย่างนี้เราจะสร้างตัวแปรทั้ง 4 ประเภท แล้วมาดูว่าเป็นข้อมูลประเภทไหนกัน\n",
    "\n",
    "\n"
   ]
  },
  {
   "cell_type": "code",
   "execution_count": null,
   "metadata": {
    "colab": {},
    "colab_type": "code",
    "id": "FPWxn1HIMf8I"
   },
   "outputs": [],
   "source": [
    "#ประกาศตัวแปร\n",
    "my_text = 'Python for Data Report'\n",
    "my_int = 1\n",
    "my_float = 1.5895\n",
    "my_bool = True\n",
    "\n",
    "#ตรวจสอบประเภทข้อมูลด้วย type()print(type(my_text))\n",
    "print(type(my_text))\n",
    "print(type(my_int))\n",
    "print(type(my_float))\n",
    "print(type(my_bool))"
   ]
  },
  {
   "cell_type": "code",
   "execution_count": null,
   "metadata": {
    "colab": {},
    "colab_type": "code",
    "id": "T57xf1FVJdLY"
   },
   "outputs": [],
   "source": [
    "# นับความยาวของ string \n",
    "print(len(word1)) \n"
   ]
  },
  {
   "cell_type": "markdown",
   "metadata": {
    "colab_type": "text",
    "id": "p27hCbFP8ztB"
   },
   "source": [
    "# ตัวดำเนินการ\n",
    "หลังจากที่ได้ทราบ วิธีสร้างตัวแปรไปแล้ว ต่อไป มาลองใช้สัญลักษณ์ทางคณิตศาสตร์ (Mathematical Operator) เล่นกับตัวแปรกัน\n",
    "\n",
    "ใน Python นั้น มีสัญลักษณ์ทางคณิตศาสตร์ให้เลือกใช้มากมาย ซึ่งขอจับคู่อธิบายให้เข้าใจง่ายๆดังนี้\n",
    "\n",
    "\n",
    "*   `+ ` บวก  และ – ลบ\n",
    "*   `* ` คูณ  และ  / หาร \n",
    "*   // หารแบบไม่เอาเศษ (floor division) \n",
    "*   %  โมดูโล หรือ หาเศษที่เหลือจากการหาร\n",
    "*  ** ยกกำลัง \n",
    "\n"
   ]
  },
  {
   "cell_type": "code",
   "execution_count": null,
   "metadata": {
    "colab": {},
    "colab_type": "code",
    "id": "ddXPVZAo84HO"
   },
   "outputs": [],
   "source": [
    "#มาดูตัวอย่างจาก Code  บวกและ ลบ กันก่อน\n",
    "\n",
    "print (5 + 2)\n",
    "print (5 - 2)"
   ]
  },
  {
   "cell_type": "markdown",
   "metadata": {
    "colab_type": "text",
    "id": "WCLjo4pB7VEH"
   },
   "source": [
    "เราสามารถเก็บค่าไว้ในตรวจแปรก่อนที่จะนำไปคำนวนก็ได้"
   ]
  },
  {
   "cell_type": "code",
   "execution_count": null,
   "metadata": {
    "colab": {},
    "colab_type": "code",
    "id": "LKjKU3vE7Xur"
   },
   "outputs": [],
   "source": [
    "x = 5\n",
    "y = 2\n",
    "print ((x + y) * 2)\n",
    "print ((x + y) / 2)"
   ]
  },
  {
   "cell_type": "markdown",
   "metadata": {
    "colab_type": "text",
    "id": "ueMFrTJB7feH"
   },
   "source": [
    "ตัวอย่างการหารไม่เอาเศษ และหาเศษจากการหาร"
   ]
  },
  {
   "cell_type": "code",
   "execution_count": null,
   "metadata": {
    "colab": {},
    "colab_type": "code",
    "id": "MqnNWcdq7yMk"
   },
   "outputs": [],
   "source": [
    "print (17 // 5)\n",
    "print (17 % 5 )"
   ]
  },
  {
   "cell_type": "markdown",
   "metadata": {
    "colab_type": "text",
    "id": "d1fIwGvO738C"
   },
   "source": [
    "จะสังเกตุว่าการใช้ // ผลที่ออกมาได้จะไม่มีเศษ จึงทำให้ข้อมูลที่ออกมาได้จะเป็น ข้อมูลประเภท int เสมอ\n",
    "\n",
    "ซึ่งต่างกับการใช้ / ต่อให้ผลหารออกมาลงตัว ข้อมูลที่ได้ก็จะออกมาเป็น float เสมอ"
   ]
  },
  {
   "cell_type": "code",
   "execution_count": null,
   "metadata": {
    "cellView": "code",
    "colab": {},
    "colab_type": "code",
    "id": "9xeqqkFK8Ars"
   },
   "outputs": [],
   "source": [
    "#@title Default title text\n",
    "x = 15 // 5\n",
    "y = 15 / 5\n",
    "print (x)\n",
    "print (y)\n",
    "print (type(x))\n",
    "print (type(y))"
   ]
  },
  {
   "cell_type": "markdown",
   "metadata": {
    "colab_type": "text",
    "id": "hfstGw028Nzv"
   },
   "source": [
    "การยกกำลังและ ถอดรูท ในตัวอย่างนี้จะยกกำลัง 9 ด้วย 2 และ ถอดรูท 2 ของ 9"
   ]
  },
  {
   "cell_type": "code",
   "execution_count": null,
   "metadata": {
    "colab": {},
    "colab_type": "code",
    "id": "_1UB-h8x8YWB"
   },
   "outputs": [],
   "source": [
    "print (9**2)\n",
    "print (9**(1/2))"
   ]
  },
  {
   "cell_type": "markdown",
   "metadata": {
    "colab_type": "text",
    "id": "Ez4p8JMI8iF8"
   },
   "source": [
    "# กฏการเรียงลำดับที่เรียกว่า PEMDAS\n",
    "1. Parentheses (ในวงเล็บ) – ทำเป็นอย่างแรกสุด\n",
    "2. Exponent (ยกกำลัง)\n",
    "3. Multiply (คูณ)\n",
    "4. Division (หาร)\n",
    "5. Addition (บวก)\n",
    "6. Subtraction(ลบ) – ทำเป็นอย่างสุดท้าย\n",
    "\n",
    "\n"
   ]
  },
  {
   "cell_type": "code",
   "execution_count": null,
   "metadata": {
    "colab": {},
    "colab_type": "code",
    "id": "W4uK3uPz9CzN"
   },
   "outputs": [],
   "source": [
    "#ตัวอย่างลำดับการคำนวณ\n",
    "3**2*7+8-4/2"
   ]
  },
  {
   "cell_type": "code",
   "execution_count": null,
   "metadata": {
    "colab": {},
    "colab_type": "code",
    "id": "ALfQsoQJ9JZJ"
   },
   "outputs": [],
   "source": [
    "#ตัวอย่างลำดับการคำนวณ 2\n",
    "print(( 4/(2 + 3**2) - 5+9 ))\n",
    "print(( 4/2 + (3**2 - 5+9 )))"
   ]
  },
  {
   "cell_type": "markdown",
   "metadata": {
    "colab_type": "text",
    "id": "tfhlOPPdQqOW"
   },
   "source": [
    "## Data Types\n",
    "\n",
    "\n",
    "\n",
    "Python มี data types หลักๆอยู่ 4 ประเภท\n",
    "\n",
    "*   **int** - ตัวเลขจำนวนเต็ม เช่น 1 2 3 4 5\n",
    "*   **float** - ตัวเลขมีทศนิยม เช่น 2.34 5.12 3.4 7.89\n",
    "*   **string** - ข้อความ ชื่อ เหมือน \"hello world\" \n",
    "*   **bool** - True/ False\n",
    "\n",
    "ตรวจสอบ data types ของตัวแปรได้ง่ายๆด้วยฟังชั่น **type()**"
   ]
  },
  {
   "cell_type": "code",
   "execution_count": null,
   "metadata": {
    "colab": {},
    "colab_type": "code",
    "id": "30bfBphCQoa9"
   },
   "outputs": [],
   "source": [
    "x = 100\n",
    "y = 2.4\n",
    "z = \"I'm learning Python\"\n",
    "k = False"
   ]
  },
  {
   "cell_type": "code",
   "execution_count": null,
   "metadata": {
    "colab": {},
    "colab_type": "code",
    "id": "1RGdu-YnSeLa"
   },
   "outputs": [],
   "source": [
    "# ตรวจสอบ data type \n",
    "print(type(x))\n",
    "print(type(y))\n",
    "print(type(z))\n",
    "print(type(k))"
   ]
  },
  {
   "cell_type": "markdown",
   "metadata": {
    "colab_type": "text",
    "id": "1mPrkqSDUTis"
   },
   "source": [
    "## Int vs. Float\n",
    "\n",
    "int เป็นตัวเลขจำนวนเต็ม ส่วน float เป็นตัวเลขที่มีทศนิยม\n",
    "\n",
    "ในทางสถิติเราเรียกตัวแปร int ว่า discrete หรือ count // ส่วน float เราเรียกว่า continuous\n",
    "\n",
    "เราสามารถเปลี่ยน data type ของ variable ระหว่าง int กับ float ด้วยฟังชั่น **int()** และ **float()** ตามลำดับ"
   ]
  },
  {
   "cell_type": "code",
   "execution_count": null,
   "metadata": {
    "colab": {},
    "colab_type": "code",
    "id": "zhr3O0HuVi-J"
   },
   "outputs": [],
   "source": [
    "# int variable\n",
    "x = 5\n",
    "print(x)\n",
    "print(type(x))"
   ]
  },
  {
   "cell_type": "code",
   "execution_count": null,
   "metadata": {
    "colab": {},
    "colab_type": "code",
    "id": "Lf__hB2kWOlY"
   },
   "outputs": [],
   "source": [
    "# float variable\n",
    "y = 5.2\n",
    "print(y)\n",
    "print(type(y))"
   ]
  },
  {
   "cell_type": "code",
   "execution_count": null,
   "metadata": {
    "colab": {},
    "colab_type": "code",
    "id": "sYjLGBM3WTQZ"
   },
   "outputs": [],
   "source": [
    "# เปลี่ยน int ให้กลายเป็น float\n",
    "x = 5\n",
    "print(type(x))\n",
    "\n",
    "x = float(x)\n",
    "print(type(x))"
   ]
  },
  {
   "cell_type": "code",
   "execution_count": null,
   "metadata": {
    "colab": {},
    "colab_type": "code",
    "id": "n46qsmRvWe7W"
   },
   "outputs": [],
   "source": [
    "# เปลี่ยน float ให้กลายเป็น int\n",
    "# ทศนิยมจะถูกตัดทิ้งไปเลย\n",
    "y = 6.5\n",
    "print(y)\n",
    "print(type(y))\n",
    "\n",
    "y = int(y)\n",
    "print(y)\n",
    "print(type(y))"
   ]
  },
  {
   "cell_type": "code",
   "execution_count": null,
   "metadata": {
    "colab": {},
    "colab_type": "code",
    "id": "S_hu50ieYyyn"
   },
   "outputs": [],
   "source": [
    "# ลองกด run code cell นี้ดู\n",
    "# 4/2 4/2.0 4.0/2 ได้ผลต่างกันไหม? อันไหนได้ int อันไหนได้ float\n",
    "print(4/2)\n",
    "print(4/2.0)\n",
    "print(4.0/2)"
   ]
  },
  {
   "cell_type": "markdown",
   "metadata": {
    "colab_type": "text",
    "id": "YL6fZqD-Sz7t"
   },
   "source": [
    "## Bool\n",
    "[George Boole](https://en.wikipedia.org/wiki/George_Boole) เป็นผู้ให้กำเนิด Boolean Algebra ซึ่งเกี่ยวข้องกับค่า True/ False ในการเขียนโปรแกรมนั่นเอง \n",
    "\n",
    "(เค้าเลยตั้งชื่อ data type นี้ว่า bool ใน Python) ใน Python คือค่า **True / False**\n",
    "\n",
    "![alt text](https://upload.wikimedia.org/wikipedia/commons/c/ce/George_Boole_color.jpg)\n",
    "\n",
    "Python และ programming language อื่นๆจะมีการเขียน equality condition \n",
    "ที่ใช้ตรวจสอบว่าสองฝั่งมีค่าเท่ากัน (น้อยกว่า มากกว่า etc) หรือเปล่า? เช่น **10 - 2 == 8 จริงไหม? **"
   ]
  },
  {
   "cell_type": "code",
   "execution_count": null,
   "metadata": {
    "colab": {},
    "colab_type": "code",
    "id": "LWxtDnVIS204"
   },
   "outputs": [],
   "source": [
    "# == ใช้เทียบสองฝั่งของสมการ\n",
    "10 - 2 == 8 "
   ]
  },
  {
   "cell_type": "code",
   "execution_count": null,
   "metadata": {
    "colab": {},
    "colab_type": "code",
    "id": "Hui8mYOQT8jH"
   },
   "outputs": [],
   "source": [
    "# เราสามารถใช้เครื่องหมาย == != < > <= >= ได้หมดเลยนะครับ\n",
    "10 * 2 < 19 "
   ]
  },
  {
   "cell_type": "code",
   "execution_count": null,
   "metadata": {
    "colab": {},
    "colab_type": "code",
    "id": "6FBwVVYgVLRk"
   },
   "outputs": [],
   "source": [
    "# != อ่านว่าไม่เท่ากับ\n",
    "555 != 55 "
   ]
  },
  {
   "cell_type": "code",
   "execution_count": null,
   "metadata": {
    "colab": {},
    "colab_type": "code",
    "id": "249A4XviT-x6"
   },
   "outputs": [],
   "source": [
    "# Python เป็น case-sentitive ตัวพิมพ์เล็กจะไม่เท่ากับตัวพิมพ์ใหญ่\n",
    "'A' == 'a'"
   ]
  },
  {
   "cell_type": "code",
   "execution_count": null,
   "metadata": {
    "colab": {},
    "colab_type": "code",
    "id": "obQum7V7UAWp"
   },
   "outputs": [],
   "source": [
    "'Hello' == 'hello'"
   ]
  },
  {
   "cell_type": "code",
   "execution_count": null,
   "metadata": {
    "colab": {},
    "colab_type": "code",
    "id": "Z-_l3-8mUJr6"
   },
   "outputs": [],
   "source": [
    "# สร้าง bool variable ง่ายๆ\n",
    "my_bool = 2 * 2 == 4\n",
    "\n",
    "print(my_bool)\n",
    "print(type(my_bool))"
   ]
  },
  {
   "cell_type": "markdown",
   "metadata": {
    "colab_type": "text",
    "id": "8B50ShSAW6kr"
   },
   "source": [
    "## True = 1 False = 0\n",
    "\n",
    "bool variable: True และ False ใน Python จะมีค่าติดตัวมันอยู่ด้วย True = 1 และ False = 0"
   ]
  },
  {
   "cell_type": "code",
   "execution_count": null,
   "metadata": {
    "colab": {},
    "colab_type": "code",
    "id": "gbcs2zyBW_QE"
   },
   "outputs": [],
   "source": [
    "# สร้างตัวแปร x เก็บค่า True เป็น bool variable\n",
    "x = True\n",
    "print(x)\n",
    "print(type(x))"
   ]
  },
  {
   "cell_type": "code",
   "execution_count": null,
   "metadata": {
    "colab": {},
    "colab_type": "code",
    "id": "pDU3PEBqXF84"
   },
   "outputs": [],
   "source": [
    "# เปลี่ยน x ให้กลายเป็น int ด้วย int()\n",
    "x = int(x)\n",
    "print(x)\n",
    "print(type(x))"
   ]
  },
  {
   "cell_type": "code",
   "execution_count": null,
   "metadata": {
    "colab": {},
    "colab_type": "code",
    "id": "dD1NDCVtXafd"
   },
   "outputs": [],
   "source": [
    "# เปลี่ยนตัวแปร int ให้กลายเป็น bool ด้วย bool()\n",
    "x = 0\n",
    "print(x)\n",
    "print(type(x))\n",
    "\n",
    "x = bool(x)\n",
    "print(x)\n",
    "print(type(x))"
   ]
  },
  {
   "cell_type": "markdown",
   "metadata": {
    "colab_type": "text",
    "id": "8OC1PDh7UXAC"
   },
   "source": [
    "## String\n",
    "เราเห็น string มาเยอะแล้วในตัวอย่างวันนี้ สังเกตง่ายๆ string (หรือข้อความ) จะอยู่ในเครื่องหมายคำพูด double quote (\" \") หรือ single quote (' ')"
   ]
  },
  {
   "cell_type": "code",
   "execution_count": null,
   "metadata": {
    "colab": {},
    "colab_type": "code",
    "id": "DhK4z2AKUjNI"
   },
   "outputs": [],
   "source": [
    "my_favourite_team = \"Arsenal\"\n",
    "print(my_favourite_team)"
   ]
  },
  {
   "cell_type": "code",
   "execution_count": null,
   "metadata": {
    "colab": {},
    "colab_type": "code",
    "id": "1j4uWaRIUtfV"
   },
   "outputs": [],
   "source": [
    "my_name = \"toy\"\n",
    "your_name = \"miranda\"\n",
    "\n",
    "print(type(my_name))\n",
    "print(type(your_name))"
   ]
  },
  {
   "cell_type": "code",
   "execution_count": null,
   "metadata": {
    "colab": {},
    "colab_type": "code",
    "id": "Y8WDePLhU15G"
   },
   "outputs": [],
   "source": [
    "# เราสามารถเปลี่ยนตัวแปรทั้งหมดให้กลายเป็น string ด้วย str()\n",
    "x = 10000\n",
    "print(x)\n",
    "print(type(x))\n",
    "\n",
    "x = str(x)\n",
    "print(x)\n",
    "print(type(x))"
   ]
  },
  {
   "cell_type": "markdown",
   "metadata": {
    "colab_type": "text",
    "id": "c4Fq9m_-YFI0"
   },
   "source": [
    "## Summary Data Types\n",
    "\n",
    "Data Types ใน Python เบื้องต้นประกอบด้วย int float string bool \n",
    "\n",
    "ไม่ว่าโมเดลของเราจะยากขนาดไหน หน่วยเล็กที่สุดก็คือ int float string bool อยู่ดี\n",
    "\n",
    "การเข้าใจ Data Types เป็นพื้นฐานสำคัญของการทำงาน Data Science ด้วย Python\n",
    "\n",
    "- int()\n",
    "- float()\n",
    "- str"
   ]
  },
  {
   "cell_type": "code",
   "execution_count": null,
   "metadata": {
    "colab": {},
    "colab_type": "code",
    "id": "pbs8gSP99IMV"
   },
   "outputs": [],
   "source": []
  },
  {
   "cell_type": "markdown",
   "metadata": {
    "colab_type": "text",
    "id": "e5ZJkgyr84_-"
   },
   "source": [
    "# ประโยคเงื่อนไง"
   ]
  },
  {
   "cell_type": "markdown",
   "metadata": {
    "colab_type": "text",
    "id": "-q2wwCSo720D"
   },
   "source": []
  },
  {
   "cell_type": "code",
   "execution_count": null,
   "metadata": {
    "colab": {},
    "colab_type": "code",
    "id": "S3kcXJgl8_oF"
   },
   "outputs": [],
   "source": []
  },
  {
   "cell_type": "markdown",
   "metadata": {
    "colab_type": "text",
    "id": "lMku8VmB9AUz"
   },
   "source": [
    "# ลูป"
   ]
  },
  {
   "cell_type": "code",
   "execution_count": null,
   "metadata": {
    "colab": {},
    "colab_type": "code",
    "id": "yOxC1OpL9GMu"
   },
   "outputs": [],
   "source": []
  },
  {
   "cell_type": "markdown",
   "metadata": {
    "colab_type": "text",
    "id": "qzAbzSLg9Gy6"
   },
   "source": [
    "# Lists"
   ]
  },
  {
   "cell_type": "code",
   "execution_count": null,
   "metadata": {
    "colab": {},
    "colab_type": "code",
    "id": "F5Gz75Wm9K5i"
   },
   "outputs": [],
   "source": []
  },
  {
   "cell_type": "markdown",
   "metadata": {
    "colab_type": "text",
    "id": "zbRpfs589Lf8"
   },
   "source": [
    "# Dictionaries"
   ]
  },
  {
   "cell_type": "code",
   "execution_count": null,
   "metadata": {
    "colab": {},
    "colab_type": "code",
    "id": "BpWwQfoX9Oax"
   },
   "outputs": [],
   "source": []
  },
  {
   "cell_type": "markdown",
   "metadata": {
    "colab_type": "text",
    "id": "Ib-CW_6Q9O--"
   },
   "source": [
    "# Test"
   ]
  },
  {
   "cell_type": "code",
   "execution_count": null,
   "metadata": {
    "colab": {
     "base_uri": "https://localhost:8080/",
     "height": 561
    },
    "colab_type": "code",
    "id": "Fo6HKKh_9r22",
    "outputId": "6b4503ec-4521-44f0-88bf-e8e12c83d39e"
   },
   "outputs": [],
   "source": [
    "import requests\n",
    "import pprint\n",
    "\n",
    "url = 'https://randomuser.me/api/?results=1'\n",
    "users = requests.get(url).json()\n",
    "pprint.pprint(users)"
   ]
  },
  {
   "cell_type": "code",
   "execution_count": null,
   "metadata": {
    "colab": {},
    "colab_type": "code",
    "id": "G0cHBIQU9sbI"
   },
   "outputs": [],
   "source": [
    "# import wikipedia\n",
    "\n",
    "# result = wikipedia.page('deep learning')\n",
    "# print(result.summary)\n",
    "\n",
    "# for link in result.links:\n",
    "#     print(link)"
   ]
  },
  {
   "cell_type": "code",
   "execution_count": null,
   "metadata": {
    "colab": {
     "base_uri": "https://localhost:8080/",
     "height": 187
    },
    "colab_type": "code",
    "id": "ymDUMP40-Eh-",
    "outputId": "50ebf5fc-3d5d-4208-e34d-e50f271ab17a"
   },
   "outputs": [],
   "source": [
    "#pip install wikipedia\n",
    "pip install emoji"
   ]
  },
  {
   "cell_type": "code",
   "execution_count": null,
   "metadata": {
    "colab": {
     "base_uri": "https://localhost:8080/",
     "height": 34
    },
    "colab_type": "code",
    "id": "38cl5M7x-IW9",
    "outputId": "43401228-55a7-4b30-a559-00c2ac1c26c8"
   },
   "outputs": [],
   "source": [
    "from emoji import emojize\n",
    "print(emojize(\":thumbs_up:\"))"
   ]
  },
  {
   "cell_type": "code",
   "execution_count": null,
   "metadata": {
    "colab": {},
    "colab_type": "code",
    "id": "jw3y95ByA6jA"
   },
   "outputs": [],
   "source": []
  }
 ],
 "metadata": {
  "colab": {
   "collapsed_sections": [],
   "name": "basic_python.ipynb",
   "provenance": [],
   "toc_visible": true,
   "version": "0.3.2"
  },
  "kernelspec": {
   "display_name": "Python 3",
   "language": "python",
   "name": "python3"
  },
  "language_info": {
   "codemirror_mode": {
    "name": "ipython",
    "version": 3
   },
   "file_extension": ".py",
   "mimetype": "text/x-python",
   "name": "python",
   "nbconvert_exporter": "python",
   "pygments_lexer": "ipython3",
   "version": "3.6.8"
  },
  "toc": {
   "base_numbering": 1,
   "nav_menu": {},
   "number_sections": true,
   "sideBar": true,
   "skip_h1_title": false,
   "title_cell": "Table of Contents",
   "title_sidebar": "Contents",
   "toc_cell": false,
   "toc_position": {},
   "toc_section_display": true,
   "toc_window_display": false
  },
  "varInspector": {
   "cols": {
    "lenName": 16,
    "lenType": 16,
    "lenVar": 40
   },
   "kernels_config": {
    "python": {
     "delete_cmd_postfix": "",
     "delete_cmd_prefix": "del ",
     "library": "var_list.py",
     "varRefreshCmd": "print(var_dic_list())"
    },
    "r": {
     "delete_cmd_postfix": ") ",
     "delete_cmd_prefix": "rm(",
     "library": "var_list.r",
     "varRefreshCmd": "cat(var_dic_list()) "
    }
   },
   "types_to_exclude": [
    "module",
    "function",
    "builtin_function_or_method",
    "instance",
    "_Feature"
   ],
   "window_display": false
  }
 },
 "nbformat": 4,
 "nbformat_minor": 1
}
