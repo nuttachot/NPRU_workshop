{
 "cells": [
  {
   "cell_type": "code",
   "execution_count": null,
   "metadata": {
    "colab": {},
    "colab_type": "code",
    "id": "nATVJV2Egscu"
   },
   "outputs": [],
   "source": [
    "#NPRU Workshop\n",
    "#pandas"
   ]
  },
  {
   "cell_type": "markdown",
   "metadata": {
    "colab_type": "text",
    "id": "nv0tp3UWL-jB"
   },
   "source": [
    "#Import pandas และ numpy library"
   ]
  },
  {
   "cell_type": "code",
   "execution_count": null,
   "metadata": {
    "colab": {},
    "colab_type": "code",
    "id": "JFjzYS-miD2j"
   },
   "outputs": [],
   "source": [
    "import pandas as pd\n",
    "import numpy as np"
   ]
  },
  {
   "cell_type": "markdown",
   "metadata": {
    "colab_type": "text",
    "id": "9prICfJIMKq5"
   },
   "source": [
    "# เปิดไฟล์ csv ด้วยคำส่ง read_csv"
   ]
  },
  {
   "cell_type": "code",
   "execution_count": null,
   "metadata": {
    "colab": {},
    "colab_type": "code",
    "id": "EdZntNZ6iLoH"
   },
   "outputs": [],
   "source": [
    "df = pd.read_csv('train.csv', index_col=0)"
   ]
  },
  {
   "cell_type": "markdown",
   "metadata": {
    "colab_type": "text",
    "id": "lJU8lmBgRucR"
   },
   "source": [
    "##เปิดไฟล์ master.csv ด้วยคำสั่ง read_csv เก็บในตัวแปร master"
   ]
  },
  {
   "cell_type": "code",
   "execution_count": null,
   "metadata": {
    "colab": {},
    "colab_type": "code",
    "id": "3R1IS8TJR6a4"
   },
   "outputs": [],
   "source": [
    "master = pd.read_csv('master.csv', index_col=[0,1,2,3])"
   ]
  },
  {
   "cell_type": "markdown",
   "metadata": {
    "colab_type": "text",
    "id": "cE7v6vTPMZ6c"
   },
   "source": [
    "# ดู 5 แถวแรก"
   ]
  },
  {
   "cell_type": "code",
   "execution_count": null,
   "metadata": {
    "colab": {
     "base_uri": "https://localhost:8080/",
     "height": 301
    },
    "colab_type": "code",
    "id": "aQI7GdAoiNZ9",
    "outputId": "561b1503-99e9-4fd9-8255-e9ecdd1bbf3d"
   },
   "outputs": [],
   "source": [
    "df.head()"
   ]
  },
  {
   "cell_type": "markdown",
   "metadata": {
    "colab_type": "text",
    "id": "bexlDSVPSF2b"
   },
   "source": [
    "##ดู 5 แถวแรก จากข้อมูล master"
   ]
  },
  {
   "cell_type": "code",
   "execution_count": null,
   "metadata": {
    "colab": {},
    "colab_type": "code",
    "id": "6An6f-NdSMux"
   },
   "outputs": [],
   "source": []
  },
  {
   "cell_type": "markdown",
   "metadata": {
    "colab_type": "text",
    "id": "bNFO79zTMe3n"
   },
   "source": [
    "# ดูค่าของ Index"
   ]
  },
  {
   "cell_type": "code",
   "execution_count": null,
   "metadata": {
    "colab": {
     "base_uri": "https://localhost:8080/",
     "height": 104
    },
    "colab_type": "code",
    "id": "8zL5S15qikHK",
    "outputId": "d3624f64-b241-4784-b48c-cc99d23387b8"
   },
   "outputs": [],
   "source": [
    "index = df.index\n",
    "print(index)"
   ]
  },
  {
   "cell_type": "markdown",
   "metadata": {
    "colab_type": "text",
    "id": "VS921EwSSQHS"
   },
   "source": [
    "##ดูค่าของ Index ของข้อมูล master"
   ]
  },
  {
   "cell_type": "code",
   "execution_count": null,
   "metadata": {
    "colab": {},
    "colab_type": "code",
    "id": "dTovDkzpSU2M"
   },
   "outputs": [],
   "source": []
  },
  {
   "cell_type": "markdown",
   "metadata": {
    "colab_type": "text",
    "id": "iI1vovV4Mpio"
   },
   "source": [
    "# ดูชื่อ Column"
   ]
  },
  {
   "cell_type": "code",
   "execution_count": null,
   "metadata": {
    "colab": {
     "base_uri": "https://localhost:8080/",
     "height": 71
    },
    "colab_type": "code",
    "id": "1ApBsswhimM8",
    "outputId": "364ddd2e-9423-4eea-857a-3ffe3447e7cf"
   },
   "outputs": [],
   "source": [
    "print(df.columns.values)"
   ]
  },
  {
   "cell_type": "code",
   "execution_count": null,
   "metadata": {
    "colab": {},
    "colab_type": "code",
    "id": "LHDJN6SpUMVf"
   },
   "outputs": [],
   "source": []
  },
  {
   "cell_type": "markdown",
   "metadata": {
    "colab_type": "text",
    "id": "SWQmlXZFSavK"
   },
   "source": [
    "##ดูชื่อ Column ของข้อมูล master"
   ]
  },
  {
   "cell_type": "code",
   "execution_count": null,
   "metadata": {
    "colab": {},
    "colab_type": "code",
    "id": "F1CDh91vSerL"
   },
   "outputs": [],
   "source": []
  },
  {
   "cell_type": "markdown",
   "metadata": {
    "colab_type": "text",
    "id": "gASeIp6GM701"
   },
   "source": [
    "# นับช่องที่ไม่ได้ใส่ข้อมูล"
   ]
  },
  {
   "cell_type": "code",
   "execution_count": null,
   "metadata": {
    "colab": {
     "base_uri": "https://localhost:8080/",
     "height": 236
    },
    "colab_type": "code",
    "id": "hFL6XfJ1i3mc",
    "outputId": "2fa8c645-0e3b-404f-b744-c60e242d5f2c"
   },
   "outputs": [],
   "source": [
    "df.isnull().sum()"
   ]
  },
  {
   "cell_type": "markdown",
   "metadata": {
    "colab_type": "text",
    "id": "U-H6LsGhSiya"
   },
   "source": [
    "##นับช่องที่ไม่ได้ใส่ข้อมูล ของ master"
   ]
  },
  {
   "cell_type": "code",
   "execution_count": null,
   "metadata": {
    "colab": {},
    "colab_type": "code",
    "id": "2JvbvqYXSlut"
   },
   "outputs": [],
   "source": []
  },
  {
   "cell_type": "markdown",
   "metadata": {
    "colab_type": "text",
    "id": "Eo_rne9fNDwu"
   },
   "source": [
    "# ดู column ชื่อ Servieved"
   ]
  },
  {
   "cell_type": "code",
   "execution_count": null,
   "metadata": {
    "colab": {
     "base_uri": "https://localhost:8080/",
     "height": 1000
    },
    "colab_type": "code",
    "id": "HaXT3m6Wmi3d",
    "outputId": "d7449150-944e-4a56-bc21-dcf2dd846dfc"
   },
   "outputs": [],
   "source": [
    "df[['Survived']]"
   ]
  },
  {
   "cell_type": "markdown",
   "metadata": {
    "colab_type": "text",
    "id": "aD2B8yjxSwTL"
   },
   "source": [
    "##ดู column ชื่อ country จากข้อมูล master"
   ]
  },
  {
   "cell_type": "code",
   "execution_count": null,
   "metadata": {
    "colab": {},
    "colab_type": "code",
    "id": "XMXEaQhKS3f9"
   },
   "outputs": [],
   "source": []
  },
  {
   "cell_type": "markdown",
   "metadata": {
    "colab_type": "text",
    "id": "eMv1wkCFNNTF"
   },
   "source": [
    "# ดูข้อมูล coulmn ชื่อ Survived,  Pclass และ Name"
   ]
  },
  {
   "cell_type": "code",
   "execution_count": null,
   "metadata": {
    "colab": {
     "base_uri": "https://localhost:8080/",
     "height": 1000
    },
    "colab_type": "code",
    "id": "JNZfkweDmi5u",
    "outputId": "d3a222c6-ba1b-4908-dc45-941522123e9e"
   },
   "outputs": [],
   "source": [
    "df[['Survived', 'Pclass', 'Name']]"
   ]
  },
  {
   "cell_type": "markdown",
   "metadata": {
    "colab_type": "text",
    "id": "Xxj46EViS5kB"
   },
   "source": [
    "##ดูข้อมูล coulmn ชื่อ country , year, sex และ age จาก master"
   ]
  },
  {
   "cell_type": "code",
   "execution_count": null,
   "metadata": {
    "colab": {},
    "colab_type": "code",
    "id": "JOFxfatNTC4N"
   },
   "outputs": [],
   "source": []
  },
  {
   "cell_type": "markdown",
   "metadata": {
    "colab_type": "text",
    "id": "kohskC9_Ncgc"
   },
   "source": [
    "# ดูข้อมูลแถวที่มีค่า Index เท่ากับ 1"
   ]
  },
  {
   "cell_type": "code",
   "execution_count": null,
   "metadata": {
    "colab": {
     "base_uri": "https://localhost:8080/",
     "height": 130
    },
    "colab_type": "code",
    "id": "OwuapGC0mi-u",
    "outputId": "31cc6eb1-2ccc-49c9-92d8-8a57169eff6e"
   },
   "outputs": [],
   "source": [
    "df.loc[[1]]"
   ]
  },
  {
   "cell_type": "markdown",
   "metadata": {
    "colab_type": "text",
    "id": "pf0QiLJMUWDC"
   },
   "source": [
    "##ดูข้อมูลแถวที่มีค่า Index เท่ากับ Thailand จาก master"
   ]
  },
  {
   "cell_type": "code",
   "execution_count": null,
   "metadata": {
    "colab": {},
    "colab_type": "code",
    "id": "PJ66stF5Ubqi"
   },
   "outputs": [],
   "source": []
  },
  {
   "cell_type": "markdown",
   "metadata": {
    "colab_type": "text",
    "id": "6gz0i0K0NsVt"
   },
   "source": [
    "# ดูข้อมูลแถวที่มีค่า Index เท่ากับ 2 ถึง 4"
   ]
  },
  {
   "cell_type": "code",
   "execution_count": null,
   "metadata": {
    "colab": {
     "base_uri": "https://localhost:8080/",
     "height": 240
    },
    "colab_type": "code",
    "id": "bZ5euTY_mjDk",
    "outputId": "486d315c-b724-4b7f-98b6-d2b5b14aaa02"
   },
   "outputs": [],
   "source": [
    "df.loc[2:4]"
   ]
  },
  {
   "cell_type": "markdown",
   "metadata": {
    "colab_type": "text",
    "id": "24u8SGLWU24G"
   },
   "source": [
    "##ดูข้อมูลแถว Thailand ถึง United Kingdom"
   ]
  },
  {
   "cell_type": "code",
   "execution_count": null,
   "metadata": {
    "colab": {},
    "colab_type": "code",
    "id": "PxWS4-0eVIr6"
   },
   "outputs": [],
   "source": []
  },
  {
   "cell_type": "markdown",
   "metadata": {
    "colab_type": "text",
    "id": "fwcJERKnN0JJ"
   },
   "source": [
    "# ดูข้อมูลแถวที่มีค่า Index เท่ากับ 2 ถึง 4 เฉพาะ column ชื่อ Age"
   ]
  },
  {
   "cell_type": "code",
   "execution_count": null,
   "metadata": {
    "colab": {
     "base_uri": "https://localhost:8080/",
     "height": 191
    },
    "colab_type": "code",
    "id": "iMhC8ybAmjGD",
    "outputId": "7b1a7a81-b6ad-4c48-aa17-ef4faffb1db0"
   },
   "outputs": [],
   "source": [
    "df.loc[2:4,['Age']]"
   ]
  },
  {
   "cell_type": "markdown",
   "metadata": {
    "colab_type": "text",
    "id": "Tu8r3xZsVYsW"
   },
   "source": [
    "##ดูข้อมูลแถวที่มีค่า Index เท่ากับ Thailand ถึง United Kingdom เฉพาะ column ชื่อ population และ generation"
   ]
  },
  {
   "cell_type": "code",
   "execution_count": null,
   "metadata": {
    "colab": {},
    "colab_type": "code",
    "id": "B5wYmvo6V-J9"
   },
   "outputs": [],
   "source": []
  },
  {
   "cell_type": "markdown",
   "metadata": {
    "colab_type": "text",
    "id": "-wOdFGdGOB0Z"
   },
   "source": [
    "# ดูข้อมูลทุกแถวที่ column Sex เป็นผู้หญิง"
   ]
  },
  {
   "cell_type": "code",
   "execution_count": null,
   "metadata": {
    "colab": {
     "base_uri": "https://localhost:8080/",
     "height": 1000
    },
    "colab_type": "code",
    "id": "DqWwP_EVmjIi",
    "outputId": "b8eb446f-5144-48f1-cde4-f42d189273b3"
   },
   "outputs": [],
   "source": [
    "df[df['Sex']=='male']"
   ]
  },
  {
   "cell_type": "markdown",
   "metadata": {
    "colab_type": "text",
    "id": "WZS6Jrf6W0sD"
   },
   "source": [
    "##ดูข้อมูลทุกแถวที่ column generation เป็น Generation X"
   ]
  },
  {
   "cell_type": "code",
   "execution_count": null,
   "metadata": {
    "colab": {},
    "colab_type": "code",
    "id": "V0-wgRybW9XY"
   },
   "outputs": [],
   "source": []
  },
  {
   "cell_type": "markdown",
   "metadata": {
    "colab_type": "text",
    "id": "y6zHtQM4OnZM"
   },
   "source": [
    "# คัดลอกข้อมูลใส่ตัวแปร data"
   ]
  },
  {
   "cell_type": "code",
   "execution_count": null,
   "metadata": {
    "colab": {},
    "colab_type": "code",
    "id": "BCiPCY2hOig_"
   },
   "outputs": [],
   "source": [
    "data = df.copy()"
   ]
  },
  {
   "cell_type": "markdown",
   "metadata": {
    "colab_type": "text",
    "id": "pKQvRZplXChh"
   },
   "source": [
    "##คัดลอกข้อมูลใส่ตัวแปร master_copy"
   ]
  },
  {
   "cell_type": "code",
   "execution_count": null,
   "metadata": {
    "colab": {},
    "colab_type": "code",
    "id": "H2bIJG8oXGIM"
   },
   "outputs": [],
   "source": []
  },
  {
   "cell_type": "markdown",
   "metadata": {
    "colab_type": "text",
    "id": "DETVuq5wOTa2"
   },
   "source": [
    "# สรุปค่าสถิติพื้นฐานของ column Age"
   ]
  },
  {
   "cell_type": "code",
   "execution_count": null,
   "metadata": {
    "colab": {
     "base_uri": "https://localhost:8080/",
     "height": 186
    },
    "colab_type": "code",
    "id": "IByZry2tmjLJ",
    "outputId": "dcce0a07-cb6b-41d1-ee21-0119511ece65"
   },
   "outputs": [],
   "source": [
    "data[\"Age\"].describe()"
   ]
  },
  {
   "cell_type": "markdown",
   "metadata": {
    "colab_type": "text",
    "id": "HfLAt6gqXIiR"
   },
   "source": [
    "##สรุปค่าสถิติพื้นฐานของ column population"
   ]
  },
  {
   "cell_type": "code",
   "execution_count": null,
   "metadata": {
    "colab": {},
    "colab_type": "code",
    "id": "OVtMs-7NXPBr"
   },
   "outputs": [],
   "source": []
  },
  {
   "cell_type": "markdown",
   "metadata": {
    "colab_type": "text",
    "id": "bq3-KYwGOvxA"
   },
   "source": [
    "# ค้นหาข้อมูลตามเงื่อนไงด้วยคำสั่ง query"
   ]
  },
  {
   "cell_type": "code",
   "execution_count": null,
   "metadata": {
    "colab": {
     "base_uri": "https://localhost:8080/",
     "height": 240
    },
    "colab_type": "code",
    "id": "xU7IqQb3necW",
    "outputId": "26cebf06-353f-4a89-ddc5-fbd819bd5ee6"
   },
   "outputs": [],
   "source": [
    "data.query(\"Sex == 'female' and Pclass =='1' and Survived == 0\")"
   ]
  },
  {
   "cell_type": "markdown",
   "metadata": {
    "colab_type": "text",
    "id": "g2D78ZxMXR1I"
   },
   "source": [
    "##ค้นหาข้อมูลของประเทศไทยที่เป็นผู้ชาย อยู่ใน generation ตามเงื่อนไงด้วยคำสั่ง query"
   ]
  },
  {
   "cell_type": "code",
   "execution_count": null,
   "metadata": {
    "colab": {},
    "colab_type": "code",
    "id": "nvgVsZBOXma5"
   },
   "outputs": [],
   "source": []
  },
  {
   "cell_type": "markdown",
   "metadata": {
    "colab_type": "text",
    "id": "SLNEokhwPCFO"
   },
   "source": [
    "# เพิ่ม column ใหม่ ชื่อ Died มีค่าเท่ากับ 1- ค่าใน column เก่าชื่อ Survived "
   ]
  },
  {
   "cell_type": "code",
   "execution_count": null,
   "metadata": {
    "colab": {},
    "colab_type": "code",
    "id": "QTLao1lplWZm"
   },
   "outputs": [],
   "source": [
    "data['Died']= 1 - data['Survived']"
   ]
  },
  {
   "cell_type": "code",
   "execution_count": null,
   "metadata": {
    "colab": {
     "base_uri": "https://localhost:8080/",
     "height": 301
    },
    "colab_type": "code",
    "id": "VcUFfQwZPVK4",
    "outputId": "d130a836-9ed5-44bb-a063-1400a3317bee"
   },
   "outputs": [],
   "source": [
    "data.head()"
   ]
  },
  {
   "cell_type": "markdown",
   "metadata": {
    "colab_type": "text",
    "id": "HQmn-MIIPbGs"
   },
   "source": [
    "# วาดกราฟแท่งโดยจัดกลุ่มตามเพศ และรวมจำนวนคนที่รอดและตายในแต่ละเพศ"
   ]
  },
  {
   "cell_type": "code",
   "execution_count": null,
   "metadata": {
    "colab": {
     "base_uri": "https://localhost:8080/",
     "height": 344
    },
    "colab_type": "code",
    "id": "VFey9y0XlWb1",
    "outputId": "39b069e8-f5f1-4b4b-f60c-4b16600ed36d"
   },
   "outputs": [],
   "source": [
    "data.groupby('Sex').agg('sum')[['Survived','Died']].plot(kind='bar',stacked=True)"
   ]
  },
  {
   "cell_type": "markdown",
   "metadata": {
    "colab_type": "text",
    "id": "i2J-ElDPQDML"
   },
   "source": [
    "# วาดกราฟ Violin แสดงเพศในแกน x และ อายุ ในแกน y"
   ]
  },
  {
   "cell_type": "code",
   "execution_count": null,
   "metadata": {
    "colab": {},
    "colab_type": "code",
    "id": "9wqSw9ZWlnzf"
   },
   "outputs": [],
   "source": [
    "import seaborn as sns"
   ]
  },
  {
   "cell_type": "code",
   "execution_count": null,
   "metadata": {
    "colab": {
     "base_uri": "https://localhost:8080/",
     "height": 320
    },
    "colab_type": "code",
    "id": "h-RFq2u8lWei",
    "outputId": "8f73e455-b2e6-44c8-cc45-59250563cb92"
   },
   "outputs": [],
   "source": [
    "sns.violinplot(x='Sex', y='Age', hue='Survived',data=data,split=True)"
   ]
  },
  {
   "cell_type": "markdown",
   "metadata": {
    "colab_type": "text",
    "id": "gvMZGT_tQlHu"
   },
   "source": [
    "# วาด Histrogram แสดงจำนวนคนที่รอด และเสียชีวิต โดยดูจากค่าโดยสาร"
   ]
  },
  {
   "cell_type": "code",
   "execution_count": null,
   "metadata": {
    "colab": {},
    "colab_type": "code",
    "id": "qLW2nTuGl5bb"
   },
   "outputs": [],
   "source": [
    "from matplotlib import pyplot as plt"
   ]
  },
  {
   "cell_type": "code",
   "execution_count": null,
   "metadata": {
    "colab": {
     "base_uri": "https://localhost:8080/",
     "height": 955
    },
    "colab_type": "code",
    "id": "vBsZW_iElWg3",
    "outputId": "74e267a3-eb5a-4b93-fd8c-389c92a15fa0"
   },
   "outputs": [],
   "source": [
    "figure = plt.figure(figsize=(32,16))\n",
    "plt.hist([data[data['Survived'] == 1]['Fare'], data[data['Survived'] == 0]['Fare']], \n",
    "         stacked=True,\n",
    "         bins = 50, label = ['Survived','Dead'])\n",
    "plt.xlabel('Fare')\n",
    "plt.ylabel('Number of Passengers')\n",
    "plt.legend();"
   ]
  },
  {
   "cell_type": "markdown",
   "metadata": {
    "colab_type": "text",
    "id": "koLqX1DrRCQ0"
   },
   "source": [
    "# แสดงการกระจายตัวของข้อมูลของ้อมูลแต่ละ column"
   ]
  },
  {
   "cell_type": "code",
   "execution_count": null,
   "metadata": {
    "colab": {
     "base_uri": "https://localhost:8080/",
     "height": 355
    },
    "colab_type": "code",
    "id": "lNwigipHlWjL",
    "outputId": "bbf3b378-63ed-4d42-91c2-d2fb1bb7d12d"
   },
   "outputs": [],
   "source": [
    "data.hist(bins=15, color='steelblue', edgecolor='black', linewidth=1.0, xlabelsize=8, ylabelsize=8, grid=False)    \n",
    "plt.tight_layout(rect=(0, 0, 1.2, 1.2))"
   ]
  },
  {
   "cell_type": "markdown",
   "metadata": {
    "colab_type": "text",
    "id": "DTjFMVjMZmAu"
   },
   "source": [
    "##แสดงการกระจายตัวของข้อมูลของ้อมูลแต่ละ column จาก master"
   ]
  },
  {
   "cell_type": "code",
   "execution_count": null,
   "metadata": {
    "colab": {},
    "colab_type": "code",
    "id": "M_0vw_BOZqVp"
   },
   "outputs": [],
   "source": []
  },
  {
   "cell_type": "markdown",
   "metadata": {
    "colab_type": "text",
    "id": "xISgYPGSRNmQ"
   },
   "source": [
    "# แสดงช้อมูลจำนวนผู้รอดชีวิตแยกตามระดับชั้นของผู้โดยสาร"
   ]
  },
  {
   "cell_type": "code",
   "execution_count": null,
   "metadata": {
    "colab": {
     "base_uri": "https://localhost:8080/",
     "height": 279
    },
    "colab_type": "code",
    "id": "AaqoGzfel3IJ",
    "outputId": "d60e1b2e-7aee-4315-c01c-88cd4e07d1be"
   },
   "outputs": [],
   "source": [
    "class_pivot = data.pivot_table(index=\"Pclass\",values=\"Survived\")\n",
    "class_pivot.plot.bar()\n",
    "plt.show()"
   ]
  },
  {
   "cell_type": "code",
   "execution_count": null,
   "metadata": {
    "colab": {},
    "colab_type": "code",
    "id": "02F0eAnCjOwp"
   },
   "outputs": [],
   "source": []
  }
 ],
 "metadata": {
  "colab": {
   "collapsed_sections": [],
   "name": "pandas101.ipynb",
   "provenance": [],
   "toc_visible": true,
   "version": "0.3.2"
  },
  "kernelspec": {
   "display_name": "Python 3",
   "language": "python",
   "name": "python3"
  },
  "language_info": {
   "codemirror_mode": {
    "name": "ipython",
    "version": 3
   },
   "file_extension": ".py",
   "mimetype": "text/x-python",
   "name": "python",
   "nbconvert_exporter": "python",
   "pygments_lexer": "ipython3",
   "version": "3.6.8"
  },
  "toc": {
   "base_numbering": 1,
   "nav_menu": {},
   "number_sections": true,
   "sideBar": true,
   "skip_h1_title": false,
   "title_cell": "Table of Contents",
   "title_sidebar": "Contents",
   "toc_cell": false,
   "toc_position": {},
   "toc_section_display": true,
   "toc_window_display": false
  },
  "varInspector": {
   "cols": {
    "lenName": 16,
    "lenType": 16,
    "lenVar": 40
   },
   "kernels_config": {
    "python": {
     "delete_cmd_postfix": "",
     "delete_cmd_prefix": "del ",
     "library": "var_list.py",
     "varRefreshCmd": "print(var_dic_list())"
    },
    "r": {
     "delete_cmd_postfix": ") ",
     "delete_cmd_prefix": "rm(",
     "library": "var_list.r",
     "varRefreshCmd": "cat(var_dic_list()) "
    }
   },
   "types_to_exclude": [
    "module",
    "function",
    "builtin_function_or_method",
    "instance",
    "_Feature"
   ],
   "window_display": false
  }
 },
 "nbformat": 4,
 "nbformat_minor": 1
}
